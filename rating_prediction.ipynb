{
 "cells": [
  {
   "cell_type": "markdown",
   "id": "d95ea728",
   "metadata": {},
   "source": [
    "# RATINGS PREDICTION"
   ]
  },
  {
   "cell_type": "code",
   "execution_count": 1,
   "id": "e1e3b4f0",
   "metadata": {},
   "outputs": [],
   "source": [
    "import pandas as pd\n",
    "import numpy as np\n",
    "import seaborn as sns\n",
    "import matplotlib.pyplot as plt\n",
    "import warnings\n",
    "from sklearn.feature_extraction.text import TfidfVectorizer,CountVectorizer\n",
    "warnings.filterwarnings('ignore')\n",
    "from sklearn.naive_bayes import MultinomialNB\n",
    "from sklearn.svm import LinearSVC\n",
    "from sklearn.ensemble import RandomForestClassifier\n",
    "from sklearn.model_selection import train_test_split,cross_val_score,GridSearchCV\n",
    "from sklearn.metrics import accuracy_score,classification_report,confusion_matrix"
   ]
  },
  {
   "cell_type": "code",
   "execution_count": 2,
   "id": "3808fd30",
   "metadata": {},
   "outputs": [],
   "source": [
    "df=pd.read_csv(\"ratings.csv\",encoding='latin-1',index_col=0)"
   ]
  },
  {
   "cell_type": "code",
   "execution_count": 3,
   "id": "fd0ae00f",
   "metadata": {},
   "outputs": [
    {
     "data": {
      "text/html": [
       "<div>\n",
       "<style scoped>\n",
       "    .dataframe tbody tr th:only-of-type {\n",
       "        vertical-align: middle;\n",
       "    }\n",
       "\n",
       "    .dataframe tbody tr th {\n",
       "        vertical-align: top;\n",
       "    }\n",
       "\n",
       "    .dataframe thead th {\n",
       "        text-align: right;\n",
       "    }\n",
       "</style>\n",
       "<table border=\"1\" class=\"dataframe\">\n",
       "  <thead>\n",
       "    <tr style=\"text-align: right;\">\n",
       "      <th></th>\n",
       "      <th>Review Title</th>\n",
       "      <th>Ratings</th>\n",
       "      <th>Review Summary</th>\n",
       "    </tr>\n",
       "  </thead>\n",
       "  <tbody>\n",
       "    <tr>\n",
       "      <th>0</th>\n",
       "      <td>Moderate</td>\n",
       "      <td>4</td>\n",
       "      <td>If you can affort few thousands extra you can ...</td>\n",
       "    </tr>\n",
       "    <tr>\n",
       "      <th>1</th>\n",
       "      <td>Best in the market!</td>\n",
       "      <td>5</td>\n",
       "      <td>Laptop is amazing and sleek. Good for day-to-d...</td>\n",
       "    </tr>\n",
       "    <tr>\n",
       "      <th>2</th>\n",
       "      <td>Mind-blowing purchase</td>\n",
       "      <td>5</td>\n",
       "      <td>I was confused between asus and lenovo s145 la...</td>\n",
       "    </tr>\n",
       "    <tr>\n",
       "      <th>3</th>\n",
       "      <td>Simply awesome</td>\n",
       "      <td>5</td>\n",
       "      <td>Got this for 61k. Great value for money. Best ...</td>\n",
       "    </tr>\n",
       "    <tr>\n",
       "      <th>4</th>\n",
       "      <td>Value-for-money</td>\n",
       "      <td>4</td>\n",
       "      <td>Laptop is good with good configuration in this...</td>\n",
       "    </tr>\n",
       "  </tbody>\n",
       "</table>\n",
       "</div>"
      ],
      "text/plain": [
       "            Review Title Ratings  \\\n",
       "0               Moderate       4   \n",
       "1    Best in the market!       5   \n",
       "2  Mind-blowing purchase       5   \n",
       "3         Simply awesome       5   \n",
       "4        Value-for-money       4   \n",
       "\n",
       "                                      Review Summary  \n",
       "0  If you can affort few thousands extra you can ...  \n",
       "1  Laptop is amazing and sleek. Good for day-to-d...  \n",
       "2  I was confused between asus and lenovo s145 la...  \n",
       "3  Got this for 61k. Great value for money. Best ...  \n",
       "4  Laptop is good with good configuration in this...  "
      ]
     },
     "execution_count": 3,
     "metadata": {},
     "output_type": "execute_result"
    }
   ],
   "source": [
    "df.head()"
   ]
  },
  {
   "cell_type": "code",
   "execution_count": 4,
   "id": "59a16afc",
   "metadata": {},
   "outputs": [
    {
     "data": {
      "text/plain": [
       "(21128, 3)"
      ]
     },
     "execution_count": 4,
     "metadata": {},
     "output_type": "execute_result"
    }
   ],
   "source": [
    "df.shape"
   ]
  },
  {
   "cell_type": "code",
   "execution_count": 5,
   "id": "a78b11da",
   "metadata": {},
   "outputs": [
    {
     "name": "stdout",
     "output_type": "stream",
     "text": [
      "<class 'pandas.core.frame.DataFrame'>\n",
      "Int64Index: 21128 entries, 0 to 21127\n",
      "Data columns (total 3 columns):\n",
      " #   Column          Non-Null Count  Dtype \n",
      "---  ------          --------------  ----- \n",
      " 0   Review Title    21128 non-null  object\n",
      " 1   Ratings         21049 non-null  object\n",
      " 2   Review Summary  21128 non-null  object\n",
      "dtypes: object(3)\n",
      "memory usage: 660.2+ KB\n"
     ]
    }
   ],
   "source": [
    "df.info()"
   ]
  },
  {
   "cell_type": "markdown",
   "id": "f80f2ac9",
   "metadata": {},
   "source": [
    "# EDA"
   ]
  },
  {
   "cell_type": "code",
   "execution_count": 6,
   "id": "1450e63c",
   "metadata": {},
   "outputs": [
    {
     "data": {
      "text/plain": [
       "array(['4', '5', 'None', '3', nan], dtype=object)"
      ]
     },
     "execution_count": 6,
     "metadata": {},
     "output_type": "execute_result"
    }
   ],
   "source": [
    "df[\"Ratings\"].unique()"
   ]
  },
  {
   "cell_type": "code",
   "execution_count": 7,
   "id": "9d6bc628",
   "metadata": {},
   "outputs": [
    {
     "data": {
      "text/plain": [
       "Review Title       0\n",
       "Ratings           79\n",
       "Review Summary     0\n",
       "dtype: int64"
      ]
     },
     "execution_count": 7,
     "metadata": {},
     "output_type": "execute_result"
    }
   ],
   "source": [
    "df.isnull().sum()"
   ]
  },
  {
   "cell_type": "code",
   "execution_count": 8,
   "id": "8162caf9",
   "metadata": {},
   "outputs": [
    {
     "data": {
      "text/plain": [
       "Review Title      object\n",
       "Ratings           object\n",
       "Review Summary    object\n",
       "dtype: object"
      ]
     },
     "execution_count": 8,
     "metadata": {},
     "output_type": "execute_result"
    }
   ],
   "source": [
    "df.dtypes"
   ]
  },
  {
   "cell_type": "code",
   "execution_count": 9,
   "id": "a038bb60",
   "metadata": {},
   "outputs": [
    {
     "data": {
      "text/plain": [
       "'5'"
      ]
     },
     "execution_count": 9,
     "metadata": {},
     "output_type": "execute_result"
    }
   ],
   "source": [
    "df['Ratings'].mode()[0]"
   ]
  },
  {
   "cell_type": "code",
   "execution_count": 10,
   "id": "b15bf2fa",
   "metadata": {},
   "outputs": [],
   "source": [
    "df['Ratings']=df['Ratings'].fillna(df['Ratings'].mode()[0])"
   ]
  },
  {
   "cell_type": "code",
   "execution_count": 11,
   "id": "86763907",
   "metadata": {},
   "outputs": [
    {
     "data": {
      "text/plain": [
       "Review Title      0\n",
       "Ratings           0\n",
       "Review Summary    0\n",
       "dtype: int64"
      ]
     },
     "execution_count": 11,
     "metadata": {},
     "output_type": "execute_result"
    }
   ],
   "source": [
    "df.isnull().sum()"
   ]
  },
  {
   "cell_type": "code",
   "execution_count": 12,
   "id": "24eca77e",
   "metadata": {},
   "outputs": [
    {
     "data": {
      "text/plain": [
       "array(['4', '5', 'None', '3'], dtype=object)"
      ]
     },
     "execution_count": 12,
     "metadata": {},
     "output_type": "execute_result"
    }
   ],
   "source": [
    "df[\"Ratings\"].unique()"
   ]
  },
  {
   "cell_type": "code",
   "execution_count": 13,
   "id": "cbb1048c",
   "metadata": {},
   "outputs": [
    {
     "data": {
      "image/png": "[encoded data removed]",
      "text/plain": [
       "<Figure size 432x432 with 1 Axes>"
      ]
     },
     "metadata": {
      "needs_background": "light"
     },
     "output_type": "display_data"
    },
    {
     "name": "stdout",
     "output_type": "stream",
     "text": [
      "5       12062\n",
      "4        5221\n",
      "None     2354\n",
      "3        1491\n",
      "Name: Ratings, dtype: int64\n"
     ]
    }
   ],
   "source": [
    "plt.figure(figsize=(6,6))\n",
    "sns.countplot('Ratings',data=df)\n",
    "plt.show()\n",
    "\n",
    "print(df['Ratings'].value_counts())"
   ]
  },
  {
   "cell_type": "code",
   "execution_count": 14,
   "id": "021a71c5",
   "metadata": {},
   "outputs": [],
   "source": [
    "#replacing none with mode 5\n",
    "df['Ratings'] = df['Ratings'].apply(lambda x: x.replace('None', '5'))"
   ]
  },
  {
   "cell_type": "code",
   "execution_count": 15,
   "id": "bc05b248",
   "metadata": {},
   "outputs": [
    {
     "data": {
      "image/png": "[encoded data removed]",
      "text/plain": [
       "<Figure size 432x432 with 1 Axes>"
      ]
     },
     "metadata": {
      "needs_background": "light"
     },
     "output_type": "display_data"
    },
    {
     "name": "stdout",
     "output_type": "stream",
     "text": [
      "5    14416\n",
      "4     5221\n",
      "3     1491\n",
      "Name: Ratings, dtype: int64\n"
     ]
    }
   ],
   "source": [
    "plt.figure(figsize=(6,6))\n",
    "sns.countplot('Ratings',data=df)\n",
    "plt.show()\n",
    "\n",
    "print(df['Ratings'].value_counts())"
   ]
  },
  {
   "cell_type": "code",
   "execution_count": 16,
   "id": "13e7a4d6",
   "metadata": {},
   "outputs": [],
   "source": [
    "#dropping the review title column\n",
    "df.drop(['Review Title'],inplace=True,axis=1)"
   ]
  },
  {
   "cell_type": "code",
   "execution_count": 17,
   "id": "eb031fd2",
   "metadata": {},
   "outputs": [
    {
     "data": {
      "text/html": [
       "<div>\n",
       "<style scoped>\n",
       "    .dataframe tbody tr th:only-of-type {\n",
       "        vertical-align: middle;\n",
       "    }\n",
       "\n",
       "    .dataframe tbody tr th {\n",
       "        vertical-align: top;\n",
       "    }\n",
       "\n",
       "    .dataframe thead th {\n",
       "        text-align: right;\n",
       "    }\n",
       "</style>\n",
       "<table border=\"1\" class=\"dataframe\">\n",
       "  <thead>\n",
       "    <tr style=\"text-align: right;\">\n",
       "      <th></th>\n",
       "      <th>Ratings</th>\n",
       "      <th>Review Summary</th>\n",
       "    </tr>\n",
       "  </thead>\n",
       "  <tbody>\n",
       "    <tr>\n",
       "      <th>0</th>\n",
       "      <td>4</td>\n",
       "      <td>If you can affort few thousands extra you can ...</td>\n",
       "    </tr>\n",
       "    <tr>\n",
       "      <th>1</th>\n",
       "      <td>5</td>\n",
       "      <td>Laptop is amazing and sleek. Good for day-to-d...</td>\n",
       "    </tr>\n",
       "    <tr>\n",
       "      <th>2</th>\n",
       "      <td>5</td>\n",
       "      <td>I was confused between asus and lenovo s145 la...</td>\n",
       "    </tr>\n",
       "    <tr>\n",
       "      <th>3</th>\n",
       "      <td>5</td>\n",
       "      <td>Got this for 61k. Great value for money. Best ...</td>\n",
       "    </tr>\n",
       "    <tr>\n",
       "      <th>4</th>\n",
       "      <td>4</td>\n",
       "      <td>Laptop is good with good configuration in this...</td>\n",
       "    </tr>\n",
       "  </tbody>\n",
       "</table>\n",
       "</div>"
      ],
      "text/plain": [
       "  Ratings                                     Review Summary\n",
       "0       4  If you can affort few thousands extra you can ...\n",
       "1       5  Laptop is amazing and sleek. Good for day-to-d...\n",
       "2       5  I was confused between asus and lenovo s145 la...\n",
       "3       5  Got this for 61k. Great value for money. Best ...\n",
       "4       4  Laptop is good with good configuration in this..."
      ]
     },
     "execution_count": 17,
     "metadata": {},
     "output_type": "execute_result"
    }
   ],
   "source": [
    "df.head(5)"
   ]
  },
  {
   "cell_type": "code",
   "execution_count": 18,
   "id": "4c12aec1",
   "metadata": {},
   "outputs": [],
   "source": [
    "#creating two new columns for the length\n",
    "\n",
    "df['length_summary']=df['Review Summary'].str.len()"
   ]
  },
  {
   "cell_type": "code",
   "execution_count": 19,
   "id": "9c1aea82",
   "metadata": {},
   "outputs": [
    {
     "data": {
      "text/html": [
       "<div>\n",
       "<style scoped>\n",
       "    .dataframe tbody tr th:only-of-type {\n",
       "        vertical-align: middle;\n",
       "    }\n",
       "\n",
       "    .dataframe tbody tr th {\n",
       "        vertical-align: top;\n",
       "    }\n",
       "\n",
       "    .dataframe thead th {\n",
       "        text-align: right;\n",
       "    }\n",
       "</style>\n",
       "<table border=\"1\" class=\"dataframe\">\n",
       "  <thead>\n",
       "    <tr style=\"text-align: right;\">\n",
       "      <th></th>\n",
       "      <th>Ratings</th>\n",
       "      <th>Review Summary</th>\n",
       "      <th>length_summary</th>\n",
       "    </tr>\n",
       "  </thead>\n",
       "  <tbody>\n",
       "    <tr>\n",
       "      <th>0</th>\n",
       "      <td>4</td>\n",
       "      <td>If you can affort few thousands extra you can ...</td>\n",
       "      <td>510</td>\n",
       "    </tr>\n",
       "    <tr>\n",
       "      <th>1</th>\n",
       "      <td>5</td>\n",
       "      <td>Laptop is amazing and sleek. Good for day-to-d...</td>\n",
       "      <td>262</td>\n",
       "    </tr>\n",
       "    <tr>\n",
       "      <th>2</th>\n",
       "      <td>5</td>\n",
       "      <td>I was confused between asus and lenovo s145 la...</td>\n",
       "      <td>510</td>\n",
       "    </tr>\n",
       "    <tr>\n",
       "      <th>3</th>\n",
       "      <td>5</td>\n",
       "      <td>Got this for 61k. Great value for money. Best ...</td>\n",
       "      <td>509</td>\n",
       "    </tr>\n",
       "    <tr>\n",
       "      <th>4</th>\n",
       "      <td>4</td>\n",
       "      <td>Laptop is good with good configuration in this...</td>\n",
       "      <td>148</td>\n",
       "    </tr>\n",
       "  </tbody>\n",
       "</table>\n",
       "</div>"
      ],
      "text/plain": [
       "  Ratings                                     Review Summary  length_summary\n",
       "0       4  If you can affort few thousands extra you can ...             510\n",
       "1       5  Laptop is amazing and sleek. Good for day-to-d...             262\n",
       "2       5  I was confused between asus and lenovo s145 la...             510\n",
       "3       5  Got this for 61k. Great value for money. Best ...             509\n",
       "4       4  Laptop is good with good configuration in this...             148"
      ]
     },
     "execution_count": 19,
     "metadata": {},
     "output_type": "execute_result"
    }
   ],
   "source": [
    "df.head()"
   ]
  },
  {
   "cell_type": "code",
   "execution_count": 20,
   "id": "caa5c3ca",
   "metadata": {},
   "outputs": [],
   "source": [
    "#converting to lower cases\n",
    "df['Review Summary']= df['Review Summary'].str.lower()"
   ]
  },
  {
   "cell_type": "code",
   "execution_count": 21,
   "id": "298d2346",
   "metadata": {},
   "outputs": [
    {
     "data": {
      "text/html": [
       "<div>\n",
       "<style scoped>\n",
       "    .dataframe tbody tr th:only-of-type {\n",
       "        vertical-align: middle;\n",
       "    }\n",
       "\n",
       "    .dataframe tbody tr th {\n",
       "        vertical-align: top;\n",
       "    }\n",
       "\n",
       "    .dataframe thead th {\n",
       "        text-align: right;\n",
       "    }\n",
       "</style>\n",
       "<table border=\"1\" class=\"dataframe\">\n",
       "  <thead>\n",
       "    <tr style=\"text-align: right;\">\n",
       "      <th></th>\n",
       "      <th>Ratings</th>\n",
       "      <th>Review Summary</th>\n",
       "      <th>length_summary</th>\n",
       "    </tr>\n",
       "  </thead>\n",
       "  <tbody>\n",
       "    <tr>\n",
       "      <th>0</th>\n",
       "      <td>4</td>\n",
       "      <td>if you can affort few thousands extra you can ...</td>\n",
       "      <td>510</td>\n",
       "    </tr>\n",
       "    <tr>\n",
       "      <th>1</th>\n",
       "      <td>5</td>\n",
       "      <td>laptop is amazing and sleek. good for day-to-d...</td>\n",
       "      <td>262</td>\n",
       "    </tr>\n",
       "    <tr>\n",
       "      <th>2</th>\n",
       "      <td>5</td>\n",
       "      <td>i was confused between asus and lenovo s145 la...</td>\n",
       "      <td>510</td>\n",
       "    </tr>\n",
       "    <tr>\n",
       "      <th>3</th>\n",
       "      <td>5</td>\n",
       "      <td>got this for 61k. great value for money. best ...</td>\n",
       "      <td>509</td>\n",
       "    </tr>\n",
       "    <tr>\n",
       "      <th>4</th>\n",
       "      <td>4</td>\n",
       "      <td>laptop is good with good configuration in this...</td>\n",
       "      <td>148</td>\n",
       "    </tr>\n",
       "  </tbody>\n",
       "</table>\n",
       "</div>"
      ],
      "text/plain": [
       "  Ratings                                     Review Summary  length_summary\n",
       "0       4  if you can affort few thousands extra you can ...             510\n",
       "1       5  laptop is amazing and sleek. good for day-to-d...             262\n",
       "2       5  i was confused between asus and lenovo s145 la...             510\n",
       "3       5  got this for 61k. great value for money. best ...             509\n",
       "4       4  laptop is good with good configuration in this...             148"
      ]
     },
     "execution_count": 21,
     "metadata": {},
     "output_type": "execute_result"
    }
   ],
   "source": [
    "df.head(5)"
   ]
  },
  {
   "cell_type": "code",
   "execution_count": 22,
   "id": "4322c887",
   "metadata": {},
   "outputs": [],
   "source": [
    "#replace email address with'email'\n",
    "df['Review Summary']=df['Review Summary'].str.replace(r\"'^.+@[^\\.].*\\'.[a-z]{2,}$\",'emailaddress')\n",
    "\n",
    "#replace URLs with web address\n",
    "df['Review Summary']=df['Review Summary'].str.replace(r\"^http\\://[a-zA-Z0-9\\-\\.]+\\.[a-zA-Z]{2,3}(/\\S*)?$\",\n",
    "                                          'webaddress')\n",
    "\n",
    "#replace moneysymbols with money symb £ is type using alt+156\n",
    "df['Review Summary']=df['Review Summary'].str.replace(r\"£|\\$k\",'ruppees')\n",
    "\n",
    "#replace 10 digit phone number with 'phonenumber'\n",
    "df['Review Summary']=df['Review Summary'].str.replace(r\"^\\(?[\\d]{3}\\)?[\\s-]?[\\d]{3}[\\s-]?[\\d]{4}$\",\n",
    "                                         'phonenumber')\n",
    "\n",
    "#replace numbers with numbers\n",
    "df['Review Summary']=df['Review Summary'].str.replace(r\"\\d+(\\.\\d+)?\",'numbr')     "
   ]
  },
  {
   "cell_type": "code",
   "execution_count": 23,
   "id": "5bd55a88",
   "metadata": {},
   "outputs": [],
   "source": [
    "#remove punctuations\n",
    "df['Review Summary']=df['Review Summary'].str.replace(r\"[^\\w\\d\\s]\",' ')\n",
    "\n",
    "#replace white space between terms single space\n",
    "df['Review Summary']=df['Review Summary'].str.replace(r\"\\s+\",' ')\n",
    "\n",
    "#remove landing and trailling white space\n",
    "df['Review Summary']=df['Review Summary'].str.replace(r\"^\\s+|\\s+?$\\n\\t\",' ')"
   ]
  },
  {
   "cell_type": "code",
   "execution_count": 24,
   "id": "b52633a1",
   "metadata": {},
   "outputs": [
    {
     "data": {
      "text/html": [
       "<div>\n",
       "<style scoped>\n",
       "    .dataframe tbody tr th:only-of-type {\n",
       "        vertical-align: middle;\n",
       "    }\n",
       "\n",
       "    .dataframe tbody tr th {\n",
       "        vertical-align: top;\n",
       "    }\n",
       "\n",
       "    .dataframe thead th {\n",
       "        text-align: right;\n",
       "    }\n",
       "</style>\n",
       "<table border=\"1\" class=\"dataframe\">\n",
       "  <thead>\n",
       "    <tr style=\"text-align: right;\">\n",
       "      <th></th>\n",
       "      <th>Ratings</th>\n",
       "      <th>Review Summary</th>\n",
       "      <th>length_summary</th>\n",
       "    </tr>\n",
       "  </thead>\n",
       "  <tbody>\n",
       "    <tr>\n",
       "      <th>0</th>\n",
       "      <td>4</td>\n",
       "      <td>if you can affort few thousands extra you can ...</td>\n",
       "      <td>510</td>\n",
       "    </tr>\n",
       "    <tr>\n",
       "      <th>1</th>\n",
       "      <td>5</td>\n",
       "      <td>laptop is amazing and sleek good for day to da...</td>\n",
       "      <td>262</td>\n",
       "    </tr>\n",
       "    <tr>\n",
       "      <th>2</th>\n",
       "      <td>5</td>\n",
       "      <td>i was confused between asus and lenovo snumbr ...</td>\n",
       "      <td>510</td>\n",
       "    </tr>\n",
       "    <tr>\n",
       "      <th>3</th>\n",
       "      <td>5</td>\n",
       "      <td>got this for numbrk great value for money best...</td>\n",
       "      <td>509</td>\n",
       "    </tr>\n",
       "    <tr>\n",
       "      <th>4</th>\n",
       "      <td>4</td>\n",
       "      <td>laptop is good with good configuration in this...</td>\n",
       "      <td>148</td>\n",
       "    </tr>\n",
       "  </tbody>\n",
       "</table>\n",
       "</div>"
      ],
      "text/plain": [
       "  Ratings                                     Review Summary  length_summary\n",
       "0       4  if you can affort few thousands extra you can ...             510\n",
       "1       5  laptop is amazing and sleek good for day to da...             262\n",
       "2       5  i was confused between asus and lenovo snumbr ...             510\n",
       "3       5  got this for numbrk great value for money best...             509\n",
       "4       4  laptop is good with good configuration in this...             148"
      ]
     },
     "execution_count": 24,
     "metadata": {},
     "output_type": "execute_result"
    }
   ],
   "source": [
    "df.head()"
   ]
  },
  {
   "cell_type": "code",
   "execution_count": 25,
   "id": "6998a51f",
   "metadata": {},
   "outputs": [],
   "source": [
    "#removing stop words\n",
    "from nltk.corpus import stopwords\n",
    "\n",
    "stop=set(stopwords.words('english')+['u','ur','4','2','im','dont','doin','ure','acnumbr','wi'])\n",
    "\n",
    "\n",
    "df['Review Summary']=df['Review Summary'].apply(lambda x: ' '.join(\n",
    "term for term in x.split() if term not in stop))"
   ]
  },
  {
   "cell_type": "code",
   "execution_count": 26,
   "id": "27402e61",
   "metadata": {},
   "outputs": [
    {
     "data": {
      "text/html": [
       "<div>\n",
       "<style scoped>\n",
       "    .dataframe tbody tr th:only-of-type {\n",
       "        vertical-align: middle;\n",
       "    }\n",
       "\n",
       "    .dataframe tbody tr th {\n",
       "        vertical-align: top;\n",
       "    }\n",
       "\n",
       "    .dataframe thead th {\n",
       "        text-align: right;\n",
       "    }\n",
       "</style>\n",
       "<table border=\"1\" class=\"dataframe\">\n",
       "  <thead>\n",
       "    <tr style=\"text-align: right;\">\n",
       "      <th></th>\n",
       "      <th>Ratings</th>\n",
       "      <th>Review Summary</th>\n",
       "      <th>length_summary</th>\n",
       "      <th>cleaned_summary</th>\n",
       "    </tr>\n",
       "  </thead>\n",
       "  <tbody>\n",
       "    <tr>\n",
       "      <th>0</th>\n",
       "      <td>4</td>\n",
       "      <td>affort thousands extra prefer laptops config c...</td>\n",
       "      <td>510</td>\n",
       "      <td>350</td>\n",
       "    </tr>\n",
       "    <tr>\n",
       "      <th>1</th>\n",
       "      <td>5</td>\n",
       "      <td>laptop amazing sleek good day day use ssd real...</td>\n",
       "      <td>262</td>\n",
       "      <td>207</td>\n",
       "    </tr>\n",
       "    <tr>\n",
       "      <th>2</th>\n",
       "      <td>5</td>\n",
       "      <td>confused asus lenovo snumbr laptop chose go la...</td>\n",
       "      <td>510</td>\n",
       "      <td>397</td>\n",
       "    </tr>\n",
       "    <tr>\n",
       "      <th>3</th>\n",
       "      <td>5</td>\n",
       "      <td>got numbrk great value money best infact price...</td>\n",
       "      <td>509</td>\n",
       "      <td>429</td>\n",
       "    </tr>\n",
       "    <tr>\n",
       "      <th>4</th>\n",
       "      <td>4</td>\n",
       "      <td>laptop good good configuration price list good...</td>\n",
       "      <td>148</td>\n",
       "      <td>101</td>\n",
       "    </tr>\n",
       "  </tbody>\n",
       "</table>\n",
       "</div>"
      ],
      "text/plain": [
       "  Ratings                                     Review Summary  length_summary  \\\n",
       "0       4  affort thousands extra prefer laptops config c...             510   \n",
       "1       5  laptop amazing sleek good day day use ssd real...             262   \n",
       "2       5  confused asus lenovo snumbr laptop chose go la...             510   \n",
       "3       5  got numbrk great value money best infact price...             509   \n",
       "4       4  laptop good good configuration price list good...             148   \n",
       "\n",
       "   cleaned_summary  \n",
       "0              350  \n",
       "1              207  \n",
       "2              397  \n",
       "3              429  \n",
       "4              101  "
      ]
     },
     "execution_count": 26,
     "metadata": {},
     "output_type": "execute_result"
    }
   ],
   "source": [
    "#length after removing puntuation, stop words\n",
    "df['cleaned_summary']=df['Review Summary'].str.len()\n",
    "\n",
    "df.head()"
   ]
  },
  {
   "cell_type": "code",
   "execution_count": 27,
   "id": "b7ce957d",
   "metadata": {},
   "outputs": [
    {
     "name": "stdout",
     "output_type": "stream",
     "text": [
      "Original summary length: 4788476\n",
      "Cleaned Summary length: 3444986\n"
     ]
    }
   ],
   "source": [
    "#total length removal\n",
    "print(\"Original summary length:\",df.length_summary.sum())\n",
    "\n",
    "print(\"Cleaned Summary length:\",df.cleaned_summary.sum())"
   ]
  },
  {
   "cell_type": "code",
   "execution_count": 28,
   "id": "ec2baf41",
   "metadata": {},
   "outputs": [],
   "source": [
    "#cahnging datatype\n",
    "#df['Ratings']=pd.to_numeric(df['Ratings'])"
   ]
  },
  {
   "cell_type": "markdown",
   "id": "2011f4f8",
   "metadata": {},
   "source": [
    "# Vectorization"
   ]
  },
  {
   "cell_type": "code",
   "execution_count": 29,
   "id": "8de05b1b",
   "metadata": {},
   "outputs": [],
   "source": [
    "#tfid=TfidfVectorizer()\n",
    "\n",
    "vectorizer=TfidfVectorizer()\n",
    "\n",
    "#features=['Review Summary','Review Title']\n",
    "\n",
    "#for i in features:\n",
    "    #df[i]=vectorizer.fit_transform(df[i])"
   ]
  },
  {
   "cell_type": "code",
   "execution_count": 30,
   "id": "175b65c1",
   "metadata": {},
   "outputs": [],
   "source": [
    "x=vectorizer.fit_transform(df['Review Summary'])\n",
    "\n",
    "y=df['Ratings']"
   ]
  },
  {
   "cell_type": "code",
   "execution_count": 31,
   "id": "904a075f",
   "metadata": {},
   "outputs": [
    {
     "name": "stdout",
     "output_type": "stream",
     "text": [
      "bag of words= ['able', 'absolute', 'absolutely', 'ac', 'accept', 'accesories', 'access', 'accessionâ', 'accessories', 'accommodate', 'according', 'accordingly', 'accuracy', 'accurate', 'acer', 'achieve', 'act', 'action', 'activities', 'actually', 'adaptor', 'add', 'adding', 'adds', 'adequate', 'adjust', 'adjustment', 'adjustments', 'adsl', 'advanced', 'advantage', 'advertised', 'aesthitically', 'affordable', 'affort', 'afterall', 'afterwards', 'ahead', 'ai', 'air', 'airtel', 'alexa', 'alliance', 'allð', 'almoded', 'almost', 'along', 'alot', 'already', 'also', 'always', 'amazing', 'amazon', 'amd', 'amex', 'amoled', 'amount', 'android', 'angle', 'anglenumbr', 'angles', 'announcement', 'annoyed', 'another', 'antenna', 'antennas', 'anumbr', 'anyone', 'anything', 'anywhere', 'ap', 'apart', 'apartment', 'apex', 'app', 'appearance', 'apple', 'applicable', 'application', 'applications', 'appreciated', 'appreciation', 'apps', 'aps', 'apxx', 'archer', 'area', 'aroma', 'around', 'arounnumbr', 'arround', 'ask', 'assurances', 'asus', 'atlast', 'attached', 'attaching', 'attractive', 'audio', 'australian', 'auto', 'autofocus', 'automatically', 'aux', 'availability', 'available', 'availablebest', 'availablemanual', 'availablenumbr', 'average', 'avoided', 'aware', 'away', 'awesome', 'awsm', 'awsome', 'back', 'backlight', 'backup', 'bad', 'bag', 'balanced', 'balcony', 'ban', 'band', 'bandwidth', 'bank', 'base', 'based', 'basic', 'bass', 'bassbest', 'battary', 'batteries', 'battery', 'batteryð', 'bcuz', 'bd', 'beam', 'beats', 'beautiful', 'become', 'bedroom', 'beginner', 'beginners', 'believe', 'benq', 'best', 'better', 'bezel', 'bezels', 'big', 'bightness', 'bigneers', 'billion', 'birthday', 'bit', 'black', 'bleed', 'blindly', 'blood', 'blowing', 'blown', 'blue', 'bluetooth', 'bluffing', 'blutooth', 'boat', 'body', 'boltt', 'booking', 'boom', 'boosted', 'boosting', 'boot', 'boots', 'border', 'borderless', 'bottle', 'bottles', 'bottom', 'bought', 'boult', 'box', 'boy', 'brand', 'brands', 'bravia', 'breathe', 'brick', 'brief', 'brightness', 'brings', 'broadband', 'brother', 'brotherâ', 'browser', 'browsing', 'bsnl', 'bt', 'buc', 'bucks', 'budget', 'budjet', 'buds', 'bugget', 'build', 'built', 'bulid', 'bulky', 'burst', 'business', 'buttery', 'button', 'buttons', 'buy', 'buyers', 'buying', 'buyð', 'ca', 'cabin', 'cable', 'cables', 'cabling', 'calculates', 'calibrated', 'call', 'calling', 'cam', 'camara', 'came', 'camera', 'cameras', 'cameravideo', 'camers', 'campact', 'cannot', 'canon', 'canonnumbrd', 'cap', 'capacity', 'capture', 'card', 'care', 'carelessly', 'carry', 'cartridge', 'cartridges', 'case', 'casing', 'casted', 'cat', 'catch', 'catches', 'catchy', 'cavity', 'cctv', 'cd', 'cgg', 'chance', 'change', 'changed', 'changing', 'channel', 'channels', 'charge', 'charger', 'chargers', 'charging', 'charm', 'cheap', 'cheapest', 'cheating', 'check', 'checked', 'cheers', 'cherish', 'chips', 'choice', 'choose', 'choosed', 'chores', 'chose', 'chrome', 'cinema', 'cl', 'claim', 'clarity', 'class', 'classes', 'classic', 'classy', 'clean', 'clear', 'clearity', 'clearly', 'click', 'closed', 'club', 'cmy', 'cnumbr', 'coding', 'collection', 'collector', 'color', 'colors', 'colour', 'coloured', 'colours', 'combination', 'come', 'comes', 'comfortable', 'coming', 'comments', 'commitment', 'committed', 'compact', 'companion', 'company', 'compare', 'compared', 'comparing', 'comparison', 'compatible', 'competitors', 'complain', 'complaint', 'completely', 'completes', 'compromise', 'compromises', 'computer', 'condition', 'config', 'configuration', 'configure', 'configuring', 'confused', 'confusion', 'conne', 'connect', 'connected', 'connecting', 'connection', 'connectiv', 'connectivity', 'cons', 'consider', 'consideration', 'considering', 'consoles', 'consume', 'consumption', 'contain', 'continuously', 'contrast', 'control', 'controle', 'controlling', 'controls', 'controlâ', 'cool', 'copier', 'copy', 'cords', 'core', 'correct', 'cost', 'costing', 'costly', 'costomer', 'costs', 'could', 'count', 'couple', 'course', 'coustomer', 'cover', 'coverage', 'covered', 'coverthat', 'cpu', 'created', 'creating', 'crisp', 'crispy', 'criteria', 'criystal', 'cruise', 'csgo', 'currently', 'curved', 'custom', 'customer', 'customers', 'customized', 'cut', 'cute', 'cx', 'cycle', 'daily', 'damage', 'damaged', 'damn', 'darker', 'dat', 'data', 'date', 'daughter', 'day', 'days', 'dd', 'ddrnumbri', 'deal', 'dear', 'decent', 'decided', 'dedicated', 'deel', 'deep', 'default', 'defect', 'defects', 'deference', 'definately', 'define', 'definitely', 'degrees', 'delayed', 'deliver', 'delivered', 'delivers', 'delivery', 'dell', 'den', 'density', 'depend', 'description', 'design', 'designed', 'desktop', 'details', 'developer', 'developers', 'device', 'devices', 'devicesnumbr', 'dewali', 'diagonal', 'dials', 'diaphragms', 'difference', 'different', 'difficult', 'dimension', 'direct', 'directly', 'disabled', 'disappearance', 'disappointed', 'disappointing', 'disappoints', 'disc', 'disco', 'discontinued', 'discount', 'display', 'distance', 'disturbance', 'disturbances', 'dit', 'diwali', 'dji', 'dlink', 'dnumbr', 'dnumbrh', 'documents', 'done', 'dongle', 'donâ', 'doori', 'doors', 'dose', 'doubt', 'download', 'draft', 'drafting', 'drastically', 'drive', 'driver', 'drivers', 'drives', 'drop', 'dropped', 'dropping', 'drops', 'drum', 'dslr', 'dual', 'due', 'duplex', 'durable', 'dust', 'dvd', 'ear', 'earbuds', 'earlier', 'earphone', 'earphones', 'ease', 'easily', 'east', 'easy', 'editing', 'edition', 'effect', 'effective', 'efficient', 'effortless', 'eg', 'ekart', 'electronics', 'elegant', 'eliminate', 'else', 'embrance', 'emission', 'enabled', 'engineering', 'english', 'enjoy', 'enjoyed', 'enough', 'ensuring', 'enthusiasts', 'entry', 'enumbr', 'epson', 'equalizer', 'equally', 'error', 'especially', 'essential', 'etc', 'even', 'ever', 'every', 'everyday', 'everyone', 'everything', 'exactly', 'example', 'excel', 'excellent', 'except', 'exceptional', 'excessive', 'executive', 'existing', 'expect', 'expectation', 'expectations', 'expected', 'expensive', 'experience', 'explain', 'explosive', 'exposed', 'extend', 'extender', 'extenderso', 'extending', 'exterior', 'external', 'extra', 'extremely', 'eye', 'eyeing', 'fabulous', 'faced', 'faces', 'facilities', 'facing', 'fact', 'fades', 'falls', 'false', 'fantastic', 'far', 'fast', 'faster', 'feature', 'features', 'featuresâ', 'feed', 'feedback', 'feel', 'feeling', 'feels', 'feet', 'felt', 'fhd', 'fi', 'file', 'files', 'filling', 'filpkart', 'finally', 'find', 'finding', 'fine', 'finepros', 'finewhen', 'finger', 'fingerprint', 'finish', 'finishing', 'fipcart', 'fire', 'firmware', 'first', 'fit', 'fitspark', 'fitting', 'fix', 'flash', 'flat', 'flawlessly', 'flickering', 'flimsy', 'flip', 'flipcart', 'flipkard', 'flipkart', 'flipkartsmartbuy', 'flipkartð', 'flippant', 'floor', 'fluid', 'fm', 'fnumbr', 'focus', 'follow', 'follows', 'form', 'forming', 'forward', 'forza', 'found', 'four', 'fps', 'fractures', 'frame', 'free', 'freesyncgood', 'frequency', 'frequently', 'friend', 'friendly', 'friends', 'front', 'fuji', 'ful', 'fulfills', 'full', 'fully', 'function', 'functions', 'gain', 'game', 'games', 'gaming', 'gave', 'gb', 'gen', 'generic', 'genuine', 'get', 'gets', 'getting', 'ghat', 'ghz', 'gift', 'gifted', 'gifting', 'gigabit', 'gigabits', 'gimble', 'give', 'given', 'gives', 'giving', 'glass', 'glossy', 'gnumbr', 'go', 'gocolor', 'gofor', 'going', 'gone', 'gonna', 'good', 'goodvery', 'gopro', 'gorilla', 'got', 'gpu', 'grab', 'grabbing', 'great', 'greater', 'greatâ', 'grip', 'grnumbrpaper', 'ground', 'gta', 'gu', 'gud', 'guest', 'guests', 'guy', 'guys', 'half', 'hand', 'handle', 'handled', 'handy', 'happen', 'happy', 'happygolucky', 'hard', 'harder', 'hardly', 'hassle', 'hats', 'hd', 'hdfc', 'hdmi', 'hdr', 'headphones', 'heard', 'heart', 'heartbeat', 'heartily', 'heat', 'heats', 'heavy', 'heigh', 'height', 'hello', 'help', 'helpful', 'helps', 'hence', 'hero', 'hi', 'high', 'higher', 'highlight', 'highlights', 'highly', 'hikvision', 'hmm', 'holding', 'home', 'homemaker', 'hometheater', 'honestly', 'honour', 'hoping', 'horizon', 'hot', 'hotspot', 'hour', 'hours', 'house', 'however', 'hp', 'hrs', 'huge', 'hurry', 'hyper', 'hyperlapse', 'hz', 'ice', 'id', 'idea', 'ideal', 'idle', 'ii', 'iii', 'image', 'immedietly', 'immersive', 'import', 'important', 'imported', 'impressed', 'impressions', 'impressive', 'improve', 'improved', 'inbuilt', 'inch', 'inches', 'include', 'included', 'includes', 'including', 'increase', 'increased', 'incredible', 'independence', 'india', 'indian', 'indicators', 'infact', 'information', 'initial', 'ink', 'inks', 'inner', 'input', 'inputs', 'inputsnumbr', 'install', 'installatiom', 'installation', 'installed', 'installing', 'instant', 'instanumbr', 'instead', 'instru', 'instructions', 'integrationi', 'intelligent', 'intended', 'interesting', 'interface', 'internet', 'interrupted', 'inumbr', 'invest', 'invested', 'ios', 'ip', 'iphone', 'iprint', 'ips', 'iris', 'irritating', 'isp', 'issue', 'issues', 'itbattery', 'item', 'itvalue', 'iâ', 'jack', 'job', 'jobnumbr', 'joshua', 'kall', 'karaoke', 'kart', 'keep', 'kept', 'keyboard', 'keypad', 'keys', 'kidsbluetooth', 'kind', 'kinder', 'kit', 'kitwifi', 'know', 'lack', 'lag', 'laggy', 'laging', 'lags', 'lan', 'land', 'lapt', 'laptop', 'laptops', 'large', 'laser', 'last', 'lasts', 'latency', 'later', 'latest', 'lcd', 'leaks', 'learning', 'least', 'led', 'legends', 'lennovo', 'lenovo', 'lens', 'less', 'lesser', 'let', 'lets', 'level', 'levels', 'lg', 'licensed', 'life', 'light', 'lighting', 'lights', 'lightweight', 'like', 'liked', 'likes', 'lil', 'limit', 'limitations', 'limited', 'line', 'link', 'linux', 'list', 'listen', 'literally', 'little', 'live', 'lived', 'loaded', 'locking', 'long', 'look', 'looking', 'looks', 'looting', 'lose', 'loss', 'lost', 'lot', 'lots', 'loud', 'love', 'loved', 'lover', 'lovers', 'loving', 'low', 'lower', 'maa', 'mac', 'machine', 'made', 'mah', 'main', 'major', 'make', 'makes', 'making', 'maldives', 'manage', 'managed', 'management', 'manual', 'manually', 'manufacturing', 'many', 'mark', 'markd', 'market', 'marketing', 'material', 'matte', 'max', 'maximum', 'may', 'maybe', 'mbps', 'mbpsconnect', 'mbpsdistance', 'mbpsnumbr', 'mbpsupload', 'means', 'measures', 'measuring', 'media', 'mediashare', 'mediateknumbr', 'medium', 'memories', 'memory', 'memorycons', 'mention', 'mentioned', 'menu', 'mercusys', 'mesh', 'message', 'met', 'metal', 'meter', 'meters', 'mh', 'mi', 'mic', 'micromax', 'mid', 'mids', 'min', 'mind', 'mindblowing', 'minimal', 'minimalists', 'mins', 'minsnight', 'minute', 'minutes', 'mirrorless', 'missing', 'ml', 'mmxnumbrg', 'mnumbr', 'mob', 'mobile', 'mode', 'model', 'models', 'modem', 'modems', 'moderate', 'modern', 'modes', 'modular', 'modularity', 'modules', 'mom', 'moments', 'money', 'moniter', 'monitor', 'monitors', 'mono', 'month', 'months', 'mood', 'moreover', 'morning', 'mostly', 'mother', 'moto', 'motorola', 'mount', 'movies', 'moviesin', 'moving', 'mp', 'ms', 'msi', 'mtnl', 'mtr', 'much', 'multi', 'multimedia', 'multiple', 'mumimo', 'music', 'must', 'namoenterprice', 'nasty', 'navigation', 'nd', 'near', 'neat', 'necessary', 'necessity', 'need', 'needs', 'needsð', 'negative', 'neither', 'net', 'network', 'networkbase', 'never', 'new', 'newer', 'nic', 'nice', 'nicecolor', 'nicewifi', 'night', 'nob', 'noise', 'nokoprint', 'non', 'none', 'nonstop', 'normal', 'nos', 'notch', 'note', 'noticed', 'notification', 'nowhere', 'number', 'numbr', 'numbra', 'numbrac', 'numbrc', 'numbrchidrens', 'numbrd', 'numbrdbi', 'numbrdesktop', 'numbrfps', 'numbrg', 'numbrgb', 'numbrgbps', 'numbrghz', 'numbrh', 'numbrhertz', 'numbrhz', 'numbrinch', 'numbrk', 'numbrmah', 'numbrmb', 'numbrmbps', 'numbrmbpsdistance', 'numbrmbpsnumbrghz', 'numbrmbpsupload', 'numbrmbpswi', 'numbrmhz', 'numbrmhzram', 'numbrminutes', 'numbrmm', 'numbrmpnumbrvq', 'numbrmscons', 'numbrmtr', 'numbrpacking', 'numbrppm', 'numbrppmsca', 'numbrprocessor', 'numbrsoftware', 'numbrtab', 'numbrth', 'numbru', 'numbrw', 'numbrwatt', 'numbrx', 'object', 'objects', 'odd', 'oepn', 'offer', 'office', 'official', 'offð', 'ok', 'okay', 'okgyro', 'okh', 'okk', 'oky', 'old', 'older', 'oled', 'omnitechretail', 'onboard', 'one', 'ones', 'online', 'onto', 'op', 'open', 'operate', 'operation', 'opinion', 'opportunity', 'option', 'options', 'order', 'ordered', 'orginal', 'original', 'os', 'osm', 'osmo', 'osomos', 'ossum', 'otg', 'others', 'otherwise', 'output', 'outstanding', 'overall', 'oxygen', 'package', 'packaging', 'packard', 'packing', 'pad', 'page', 'pages', 'paired', 'panasonic', 'pandemic', 'pane', 'panel', 'panels', 'paper', 'paperlike', 'par', 'parag', 'parfomation', 'part', 'party', 'passes', 'past', 'pay', 'paying', 'pc', 'pd', 'pdf', 'peasy', 'pen', 'penetra', 'people', 'per', 'perfect', 'perfectly', 'perform', 'performance', 'performanceâ', 'performence', 'performing', 'performs', 'period', 'person', 'personal', 'personally', 'pg', 'philips', 'phillips', 'phone', 'phoneð', 'photo', 'photocopy', 'photographer', 'photographers', 'photography', 'photopaper', 'photos', 'photoswhat', 'pic', 'pick', 'pickup', 'pics', 'picture', 'pictures', 'pie', 'piece', 'pin', 'pink', 'pixels', 'placement', 'plan', 'plates', 'play', 'played', 'player', 'playing', 'plea', 'pleasantly', 'please', 'pleasing', 'pls', 'plugging', 'plugin', 'plus', 'plzz', 'poco', 'pods', 'poe', 'point', 'points', 'poor', 'pop', 'popped', 'port', 'portable', 'portions', 'portswpanumbrdual', 'positioned', 'positioning', 'power', 'powered', 'powerful', 'powerpoint', 'practical', 'practically', 'pre', 'precious', 'prefer', 'premium', 'premiums', 'presentable', 'press', 'pressure', 'pretty', 'previous', 'price', 'priced', 'pricewi', 'pricing', 'primary', 'print', 'printe', 'printed', 'printer', 'printing', 'printings', 'printouts', 'prints', 'priority', 'pro', 'probass', 'problem', 'problems', 'process', 'processing', 'processor', 'processornumbrmb', 'product', 'productivity', 'products', 'productâ', 'professional', 'programmed', 'projection', 'prominent', 'promt', 'proof', 'properly', 'pros', 'prosnumbr', 'protected', 'protection', 'protector', 'protectors', 'proud', 'provide', 'provided', 'provides', 'purchase', 'purchased', 'purchasing', 'pure', 'purpose', 'purposes', 'put', 'qaulity', 'quality', 'qualityoverall', 'quest', 'question', 'quick', 'quickly', 'quite', 'qulity', 'radio', 'ram', 'ramnumbrmb', 'range', 'rangego', 'rangeit', 'rate', 'rather', 'rca', 'rdrnumbr', 'reach', 'reaches', 'read', 'readers', 'reading', 'ready', 'real', 'realistic', 'really', 'realme', 'rear', 'reason', 'reasonable', 'reasons', 'received', 'rechargeable', 'reckerz', 'recomend', 'recommend', 'recommendation', 'recommended', 'recommending', 'recording', 'reduce', 'refill', 'refinament', 'refresh', 'refund', 'regarding', 'regular', 'reinforced', 'released', 'reliable', 'reloaded', 'remember', 'remote', 'rendition', 'renumbr', 'repeater', 'repeating', 'replacement', 'reproduction', 'reputed', 'requested', 'required', 'requsted', 'research', 'reset', 'resistance', 'resolution', 'resolutions', 'responding', 'response', 'rest', 'restart', 'result', 'return', 'review', 'reviews', 'rgb', 'rich', 'rigid', 'rms', 'rock', 'rockerz', 'rocking', 'room', 'rooms', 'round', 'rounder', 'rout', 'router', 'routernumbr', 'routers', 'rs', 'rsnumbr', 'rubs', 'run', 'running', 'runs', 'ruppeesï', 'russia', 'ryzen', 'sad', 'said', 'sale', 'sample', 'samsung', 'satisfaction', 'satisfactory', 'satisfied', 'saturated', 'save', 'saving', 'saw', 'say', 'says', 'scan', 'scanner', 'scanning', 'school', 'scree', 'screen', 'screws', 'sd', 'searches', 'second', 'seconds', 'secs', 'securityâ', 'see', 'seekers', 'seems', 'seen', 'segment', 'select', 'self', 'selfie', 'sell', 'seller', 'selling', 'sells', 'sennheiser', 'sensor', 'sepeker', 'series', 'service', 'servicenumbr', 'set', 'setting', 'settings', 'setup', 'shaky', 'share', 'sheet', 'shoot', 'shooting', 'short', 'shorter', 'shot', 'show', 'showing', 'shown', 'shows', 'side', 'sightdownload', 'signal', 'signals', 'silent', 'simple', 'simplex', 'simply', 'since', 'sincere', 'singing', 'single', 'sir', 'sister', 'site', 'size', 'sized', 'sleek', 'slightly', 'slim', 'slow', 'slowmo', 'small', 'smart', 'smartphone', 'smartphones', 'smartwatch', 'smartwatches', 'smooth', 'smoothly', 'smoothness', 'snail', 'snappy', 'snumbr', 'sober', 'software', 'solved', 'someone', 'something', 'sometime', 'sometimes', 'somewhat', 'somewhere', 'song', 'songs', 'sony', 'soo', 'soon', 'sooooo', 'sorry', 'sorted', 'sound', 'sounds', 'sources', 'space', 'spare', 'speaker', 'speakers', 'special', 'specially', 'specific', 'specifically', 'specifications', 'specs', 'speed', 'speeds', 'spend', 'spill', 'spoken', 'sponumbr', 'spped', 'spreads', 'sprinkle', 'ssd', 'sta', 'stabilisation', 'stable', 'stand', 'standard', 'star', 'stars', 'start', 'started', 'status', 'stay', 'std', 'step', 'steps', 'still', 'stills', 'stm', 'stock', 'storage', 'straight', 'strain', 'strap', 'strength', 'strom', 'strong', 'strongly', 'study', 'stuff', 'sturdy', 'style', 'stylish', 'sub', 'subwoofer', 'suggest', 'suggestion', 'suitable', 'super', 'superb', 'superfast', 'superior', 'support', 'supported', 'supporting', 'supports', 'suprb', 'sure', 'surfing', 'surprised', 'surround', 'surrounding', 'sustaining', 'sweat', 'switch', 'switching', 'system', 'systemaudio', 'systems', 'tab', 'tablet', 'tabs', 'tag', 'take', 'takes', 'talking', 'tangle', 'tangled', 'tape', 'tasking', 'team', 'technical', 'technology', 'tecnia', 'tell', 'temp', 'temperature', 'tenda', 'tenson', 'term', 'terminologies', 'terms', 'terrace', 'terrible', 'terribly', 'terrific', 'test', 'text', 'th', 'thank', 'thankfull', 'thanks', 'thankuð', 'thankyou', 'thanxs', 'thats', 'theater', 'theatre', 'theme', 'theres', 'theter', 'thetre', 'thi', 'thin', 'thing', 'things', 'think', 'thinking', 'though', 'thought', 'thousands', 'throughout', 'tht', 'thunderbold', 'tight', 'tikona', 'till', 'tilt', 'time', 'timecons', 'timely', 'times', 'tint', 'tiny', 'tl', 'tn', 'today', 'told', 'toner', 'toners', 'took', 'top', 'tops', 'total', 'totally', 'touch', 'tp', 'tq', 'track', 'tracking', 'tracks', 'tragic', 'transfer', 'transferred', 'transmissionâ', 'transmitting', 'travel', 'traveling', 'travellers', 'tray', 'trayprint', 'treble', 'tremendous', 'tried', 'trippy', 'trouble', 'troubling', 'true', 'truely', 'truly', 'trust', 'trustable', 'try', 'trying', 'ttp', 'tune', 'tv', 'twice', 'twin', 'two', 'txt', 'type', 'typical', 'ui', 'ultra', 'unbeatable', 'uncomfortable', 'undoubtedly', 'unedited', 'unit', 'unlike', 'unlock', 'unpack', 'update', 'updated', 'updates', 'upgrade', 'upgrading', 'upload', 'uploaded', 'upper', 'upto', 'us', 'usage', 'usb', 'use', 'used', 'useful', 'usefull', 'user', 'users', 'uses', 'using', 'utilised', 'valor', 'valorant', 'valuable', 'value', 'variant', 'varient', 'variety', 'various', 'vary', 'velue', 'ver', 'verry', 'versatile', 'version', 'versions', 'vfm', 'vga', 'vibing', 'video', 'videographers', 'videos', 'viewing', 'viewsonic', 'visible', 'vision', 'vlogger', 'vloggers', 'vnumbr', 'voice', 'volume', 'vs', 'waat', 'wait', 'waiting', 'walking', 'wall', 'walldownload', 'wallpaper', 'wallsdownload', 'want', 'wanted', 'wants', 'wanumbrre', 'waoooo', 'warned', 'warranteecons', 'warranty', 'washed', 'wasted', 'watch', 'watches', 'watching', 'water', 'waterproof', 'watterproof', 'watts', 'way', 'web', 'webcam', 'website', 'week', 'weekawesome', 'weeks', 'weight', 'well', 'welldid', 'whereas', 'wherever', 'white', 'whitissh', 'whole', 'whopping', 'wide', 'wider', 'widget', 'width', 'wifi', 'wil', 'windows', 'winner', 'wipe', 'wire', 'wired', 'wireless', 'wirelessly', 'wires', 'wise', 'wish', 'within', 'withnumbr', 'without', 'wobbles', 'wonderful', 'wont', 'word', 'work', 'worked', 'working', 'works', 'world', 'worse', 'worst', 'worth', 'worthy', 'would', 'wounderful', 'wow', 'wps', 'write', 'writing', 'wrn', 'wrnumbrn', 'wrost', 'wrt', 'xe', 'xx', 'year', 'years', 'yellow', 'yes', 'youtube', 'youâ', 'ypu', 'zebronics', 'zoom', 'ºï']\n"
     ]
    }
   ],
   "source": [
    "print(\"bag of words=\",vectorizer.get_feature_names())"
   ]
  },
  {
   "cell_type": "code",
   "execution_count": 32,
   "id": "4a466bfd",
   "metadata": {},
   "outputs": [
    {
     "data": {
      "text/plain": [
       "(21128, 1928)"
      ]
     },
     "execution_count": 32,
     "metadata": {},
     "output_type": "execute_result"
    }
   ],
   "source": [
    "x.shape"
   ]
  },
  {
   "cell_type": "code",
   "execution_count": 33,
   "id": "111d355b",
   "metadata": {},
   "outputs": [
    {
     "data": {
      "text/plain": [
       "(21128,)"
      ]
     },
     "execution_count": 33,
     "metadata": {},
     "output_type": "execute_result"
    }
   ],
   "source": [
    "y.shape"
   ]
  },
  {
   "cell_type": "code",
   "execution_count": 34,
   "id": "665d1a13",
   "metadata": {},
   "outputs": [
    {
     "data": {
      "text/plain": [
       "dtype('O')"
      ]
     },
     "execution_count": 34,
     "metadata": {},
     "output_type": "execute_result"
    }
   ],
   "source": [
    "y.dtypes"
   ]
  },
  {
   "cell_type": "code",
   "execution_count": 35,
   "id": "740afba8",
   "metadata": {},
   "outputs": [
    {
     "data": {
      "text/plain": [
       "dtype('float64')"
      ]
     },
     "execution_count": 35,
     "metadata": {},
     "output_type": "execute_result"
    }
   ],
   "source": [
    "x.dtype"
   ]
  },
  {
   "cell_type": "markdown",
   "id": "5e91b06a",
   "metadata": {},
   "source": [
    "# Model Building"
   ]
  },
  {
   "cell_type": "code",
   "execution_count": 36,
   "id": "0856c98a",
   "metadata": {},
   "outputs": [
    {
     "name": "stdout",
     "output_type": "stream",
     "text": [
      "Report=               precision    recall  f1-score   support\n",
      "\n",
      "           3       0.97      0.68      0.80       365\n",
      "           4       1.00      0.91      0.95      1322\n",
      "           5       0.94      1.00      0.97      3595\n",
      "\n",
      "    accuracy                           0.95      5282\n",
      "   macro avg       0.97      0.86      0.91      5282\n",
      "weighted avg       0.96      0.95      0.95      5282\n",
      "\n",
      "accuracy= 0.9547519878833776\n"
     ]
    }
   ],
   "source": [
    "MNB=MultinomialNB()\n",
    "\n",
    "x_train,x_test,y_train,y_test=train_test_split(x,y,test_size=0.25,random_state=45)\n",
    "\n",
    "MNB.fit(x_train,y_train)\n",
    "\n",
    "predgn=MNB.predict(x_test)\n",
    "\n",
    "print(\"Report=\",classification_report(y_test,predgn))\n",
    "\n",
    "print(\"accuracy=\", accuracy_score(y_test,predgn))\n"
   ]
  },
  {
   "cell_type": "code",
   "execution_count": 37,
   "id": "1ceb5583",
   "metadata": {},
   "outputs": [
    {
     "name": "stdout",
     "output_type": "stream",
     "text": [
      "Report=               precision    recall  f1-score   support\n",
      "\n",
      "           3       0.90      0.98      0.94       365\n",
      "           4       0.99      0.97      0.98      1322\n",
      "           5       1.00      0.99      1.00      3595\n",
      "\n",
      "    accuracy                           0.99      5282\n",
      "   macro avg       0.96      0.98      0.97      5282\n",
      "weighted avg       0.99      0.99      0.99      5282\n",
      "\n",
      "accuracy= 0.9869367663763726\n"
     ]
    }
   ],
   "source": [
    "#linear Svc\n",
    "ls=LinearSVC()\n",
    "\n",
    "x_train,x_test,y_train,y_test=train_test_split(x,y,test_size=0.25,random_state=45)\n",
    "\n",
    "ls.fit(x_train,y_train)\n",
    "\n",
    "predls=ls.predict(x_test)\n",
    "\n",
    "print(\"Report=\",classification_report(y_test,predls))\n",
    "\n",
    "print(\"accuracy=\", accuracy_score(y_test,predls))"
   ]
  },
  {
   "cell_type": "code",
   "execution_count": 38,
   "id": "3f993454",
   "metadata": {},
   "outputs": [
    {
     "name": "stdout",
     "output_type": "stream",
     "text": [
      "Report=               precision    recall  f1-score   support\n",
      "\n",
      "           3       0.90      0.98      0.94       365\n",
      "           4       0.99      0.98      0.99      1322\n",
      "           5       1.00      1.00      1.00      3595\n",
      "\n",
      "    accuracy                           0.99      5282\n",
      "   macro avg       0.96      0.98      0.97      5282\n",
      "weighted avg       0.99      0.99      0.99      5282\n",
      "\n",
      "accuracy= 0.9901552442256721\n"
     ]
    }
   ],
   "source": [
    "#random forest\n",
    "rfc=RandomForestClassifier()\n",
    "\n",
    "x_train,x_test,y_train,y_test=train_test_split(x,y,test_size=0.25,random_state=45)\n",
    "\n",
    "rfc.fit(x_train,y_train)\n",
    "\n",
    "predrf=rfc.predict(x_test)\n",
    "\n",
    "print(\"Report=\",classification_report(y_test,predrf))\n",
    "\n",
    "print(\"accuracy=\", accuracy_score(y_test,predrf))"
   ]
  },
  {
   "cell_type": "markdown",
   "id": "62a44b81",
   "metadata": {},
   "source": [
    "# Cross Validation Score"
   ]
  },
  {
   "cell_type": "code",
   "execution_count": 39,
   "id": "c3bfdcc4",
   "metadata": {},
   "outputs": [
    {
     "name": "stdout",
     "output_type": "stream",
     "text": [
      "CV score and it's mean of MultinomialNB: 0.8740975229717395 Accuracy Score: 0.9547519878833776\n",
      "CV score and it's mean of LinearSVC: 0.9112500035615517 Accuracy Score: 0.9869367663763726\n",
      "CV score and it's mean of Random Forest: 0.9119126806452598 Accuracy Score: 0.9901552442256721\n"
     ]
    }
   ],
   "source": [
    "print(\"CV score and it's mean of MultinomialNB:\",cross_val_score(MNB,x,y,cv=6).mean(),\"Accuracy Score:\",accuracy_score(y_test,predgn))\n",
    "print(\"CV score and it's mean of LinearSVC:\",cross_val_score(ls,x,y,cv=6).mean(),\"Accuracy Score:\",accuracy_score(y_test,predls))\n",
    "print(\"CV score and it's mean of Random Forest:\",cross_val_score(rfc,x,y,cv=6).mean(),\"Accuracy Score:\",accuracy_score(y_test,predrf))"
   ]
  },
  {
   "cell_type": "markdown",
   "id": "4d26b2e2",
   "metadata": {},
   "source": [
    "Selecting random forest as my final model beacuse it have least difference in cv and accuracy score"
   ]
  },
  {
   "cell_type": "markdown",
   "id": "13031679",
   "metadata": {},
   "source": [
    "# Hyper Parameter Tuning"
   ]
  },
  {
   "cell_type": "code",
   "execution_count": 40,
   "id": "dc011993",
   "metadata": {},
   "outputs": [],
   "source": [
    "parameters={'min_samples_split':np.arange(10,15),'n_estimators':np.arange(120,135),'criterion':['gini','entropy'],\n",
    "          'max_depth':np.arange(20,32)}"
   ]
  },
  {
   "cell_type": "code",
   "execution_count": 41,
   "id": "d54a6661",
   "metadata": {},
   "outputs": [],
   "source": [
    "gsv=GridSearchCV(rfc,parameters,cv=6)"
   ]
  },
  {
   "cell_type": "code",
   "execution_count": 42,
   "id": "a9410519",
   "metadata": {},
   "outputs": [
    {
     "data": {
      "text/plain": [
       "GridSearchCV(cv=6, estimator=RandomForestClassifier(),\n",
       "             param_grid={'criterion': ['gini', 'entropy'],\n",
       "                         'max_depth': array([20, 21, 22, 23, 24, 25, 26, 27, 28, 29, 30, 31]),\n",
       "                         'min_samples_split': array([10, 11, 12, 13, 14]),\n",
       "                         'n_estimators': array([120, 121, 122, 123, 124, 125, 126, 127, 128, 129, 130, 131, 132,\n",
       "       133, 134])})"
      ]
     },
     "execution_count": 42,
     "metadata": {},
     "output_type": "execute_result"
    }
   ],
   "source": [
    "gsv.fit(x_train,y_train)"
   ]
  },
  {
   "cell_type": "code",
   "execution_count": 43,
   "id": "6aab46b5",
   "metadata": {},
   "outputs": [
    {
     "data": {
      "text/plain": [
       "{'criterion': 'entropy',\n",
       " 'max_depth': 31,\n",
       " 'min_samples_split': 13,\n",
       " 'n_estimators': 128}"
      ]
     },
     "execution_count": 43,
     "metadata": {},
     "output_type": "execute_result"
    }
   ],
   "source": [
    "gsv.best_params_"
   ]
  },
  {
   "cell_type": "markdown",
   "id": "4e7b257f",
   "metadata": {},
   "source": [
    "best parameters"
   ]
  },
  {
   "cell_type": "markdown",
   "id": "d2045564",
   "metadata": {},
   "source": [
    "# Final model"
   ]
  },
  {
   "cell_type": "code",
   "execution_count": 45,
   "id": "0959d5e7",
   "metadata": {},
   "outputs": [
    {
     "name": "stdout",
     "output_type": "stream",
     "text": [
      "98.33396440742142\n"
     ]
    }
   ],
   "source": [
    "best=RandomForestClassifier(criterion='entropy',max_depth=31,min_samples_split=13,n_estimators=128)\n",
    "best.fit(x_train,y_train)\n",
    "predbest=best.predict(x_test)\n",
    "acc_b=(accuracy_score(y_test,predbest))\n",
    "print(acc_b*100)"
   ]
  },
  {
   "cell_type": "code",
   "execution_count": 46,
   "id": "3fed3a5f",
   "metadata": {},
   "outputs": [
    {
     "data": {
      "text/plain": [
       "['rating.pkl']"
      ]
     },
     "execution_count": 46,
     "metadata": {},
     "output_type": "execute_result"
    }
   ],
   "source": [
    "#model saving\n",
    "import joblib as jb\n",
    "jb.dump(best,\"rating.pkl\")"
   ]
  },
  {
   "cell_type": "markdown",
   "id": "cda9e7d5",
   "metadata": {},
   "source": [
    "# Conclusion"
   ]
  },
  {
   "cell_type": "code",
   "execution_count": 47,
   "id": "b06d850d",
   "metadata": {},
   "outputs": [
    {
     "data": {
      "text/html": [
       "<div>\n",
       "<style scoped>\n",
       "    .dataframe tbody tr th:only-of-type {\n",
       "        vertical-align: middle;\n",
       "    }\n",
       "\n",
       "    .dataframe tbody tr th {\n",
       "        vertical-align: top;\n",
       "    }\n",
       "\n",
       "    .dataframe thead th {\n",
       "        text-align: right;\n",
       "    }\n",
       "</style>\n",
       "<table border=\"1\" class=\"dataframe\">\n",
       "  <thead>\n",
       "    <tr style=\"text-align: right;\">\n",
       "      <th></th>\n",
       "      <th>Original</th>\n",
       "      <th>Predicted</th>\n",
       "    </tr>\n",
       "  </thead>\n",
       "  <tbody>\n",
       "    <tr>\n",
       "      <th>0</th>\n",
       "      <td>5</td>\n",
       "      <td>5</td>\n",
       "    </tr>\n",
       "    <tr>\n",
       "      <th>1</th>\n",
       "      <td>5</td>\n",
       "      <td>5</td>\n",
       "    </tr>\n",
       "    <tr>\n",
       "      <th>2</th>\n",
       "      <td>5</td>\n",
       "      <td>5</td>\n",
       "    </tr>\n",
       "    <tr>\n",
       "      <th>3</th>\n",
       "      <td>4</td>\n",
       "      <td>4</td>\n",
       "    </tr>\n",
       "    <tr>\n",
       "      <th>4</th>\n",
       "      <td>5</td>\n",
       "      <td>5</td>\n",
       "    </tr>\n",
       "    <tr>\n",
       "      <th>...</th>\n",
       "      <td>...</td>\n",
       "      <td>...</td>\n",
       "    </tr>\n",
       "    <tr>\n",
       "      <th>5277</th>\n",
       "      <td>5</td>\n",
       "      <td>5</td>\n",
       "    </tr>\n",
       "    <tr>\n",
       "      <th>5278</th>\n",
       "      <td>5</td>\n",
       "      <td>5</td>\n",
       "    </tr>\n",
       "    <tr>\n",
       "      <th>5279</th>\n",
       "      <td>4</td>\n",
       "      <td>4</td>\n",
       "    </tr>\n",
       "    <tr>\n",
       "      <th>5280</th>\n",
       "      <td>5</td>\n",
       "      <td>5</td>\n",
       "    </tr>\n",
       "    <tr>\n",
       "      <th>5281</th>\n",
       "      <td>4</td>\n",
       "      <td>4</td>\n",
       "    </tr>\n",
       "  </tbody>\n",
       "</table>\n",
       "<p>5282 rows × 2 columns</p>\n",
       "</div>"
      ],
      "text/plain": [
       "     Original Predicted\n",
       "0           5         5\n",
       "1           5         5\n",
       "2           5         5\n",
       "3           4         4\n",
       "4           5         5\n",
       "...       ...       ...\n",
       "5277        5         5\n",
       "5278        5         5\n",
       "5279        4         4\n",
       "5280        5         5\n",
       "5281        4         4\n",
       "\n",
       "[5282 rows x 2 columns]"
      ]
     },
     "execution_count": 47,
     "metadata": {},
     "output_type": "execute_result"
    }
   ],
   "source": [
    "a=np.array(y_test)\n",
    "predicted=np.array(best.predict(x_test))\n",
    "RATING=pd.DataFrame({\"Original\":a,\"Predicted\":predicted},index=range(len(a)))\n",
    "RATING"
   ]
  }
 ],
 "metadata": {
  "kernelspec": {
   "display_name": "Python 3",
   "language": "python",
   "name": "python3"
  },
  "language_info": {
   "codemirror_mode": {
    "name": "ipython",
    "version": 3
   },
   "file_extension": ".py",
   "mimetype": "text/x-python",
   "name": "python",
   "nbconvert_exporter": "python",
   "pygments_lexer": "ipython3",
   "version": "3.8.8"
  }
 },
 "nbformat": 4,
 "nbformat_minor": 5
}
