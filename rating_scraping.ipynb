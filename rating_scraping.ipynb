{
 "cells": [
  {
   "cell_type": "code",
   "execution_count": 1,
   "id": "07aadbb6",
   "metadata": {},
   "outputs": [],
   "source": [
    "# Importing Libraries\n",
    "import selenium\n",
    "import pandas as pd\n",
    "import time\n",
    "from bs4 import BeautifulSoup as bs\n",
    "\n",
    "# Importing selenium webdriver \n",
    "from selenium import webdriver\n",
    "\n",
    "# Importing required Exceptions which needs to handled\n",
    "from selenium.common.exceptions import StaleElementReferenceException, NoSuchElementException, WebDriverException\n",
    "\n",
    "#Importing requests\n",
    "import requests as re\n",
    "\n",
    "import warnings   #importing warning modules for ignoring the warnings\n",
    "warnings.filterwarnings('ignore')\n",
    "\n",
    "from selenium.webdriver import ActionChains\n",
    "\n",
    "from selenium.webdriver.support.ui import Select\n",
    "\n",
    "from selenium.webdriver.support.ui import WebDriverWait\n",
    "\n",
    "from selenium.webdriver.support import expected_conditions as EC\n",
    "\n",
    "from selenium.webdriver.common.by import By"
   ]
  },
  {
   "cell_type": "markdown",
   "id": "fb4a4b38",
   "metadata": {},
   "source": [
    "# Flipkart"
   ]
  },
  {
   "cell_type": "code",
   "execution_count": 2,
   "id": "bb481dcb",
   "metadata": {},
   "outputs": [],
   "source": [
    "#connecting to webdriver\n",
    "driver=webdriver.Chrome(r'C:\\Program Files (x86)\\chromedriver.exe')\n",
    "#opening the url\n",
    "driver.get('https://www.flipkart.com/')\n",
    "time.sleep(2)\n",
    "driver.maximize_window()"
   ]
  },
  {
   "cell_type": "code",
   "execution_count": 3,
   "id": "0e77510b",
   "metadata": {},
   "outputs": [],
   "source": [
    "#closing login button\n",
    "login=driver.find_element_by_xpath(\"//button[@class='_2KpZ6l _2doB4z']\")\n",
    "time.sleep(3)\n",
    "login.click()"
   ]
  },
  {
   "cell_type": "code",
   "execution_count": 4,
   "id": "c877b701",
   "metadata": {},
   "outputs": [],
   "source": [
    "#searching the product name in search bar\n",
    "search=driver.find_element_by_xpath(\"//div[@class='_3OO5Xc']/input\")\n",
    "search.send_keys(\"laptops\")\n",
    "\n",
    "#clicking search button in the search button\n",
    "search_btn=driver.find_element_by_xpath(\"//button[@class='L0Z3Pu']\")\n",
    "time.sleep(3)\n",
    "search_btn.click()\n"
   ]
  },
  {
   "cell_type": "code",
   "execution_count": 5,
   "id": "2a4668e7",
   "metadata": {},
   "outputs": [],
   "source": [
    "page_link=\"https://www.flipkart.com/search?q=laptops&otracker=search&otracker1=search&marketplace=FLIPKART&as-show=on&as=off&page=\""
   ]
  },
  {
   "cell_type": "code",
   "execution_count": 6,
   "id": "5e92e25f",
   "metadata": {},
   "outputs": [],
   "source": [
    " url=[]\n",
    "#product url\n",
    "for u in driver.find_elements_by_xpath(\"//a[@class='_1fQZEK']\"):\n",
    "    url.append(u.get_attribute(\"href\"))"
   ]
  },
  {
   "cell_type": "code",
   "execution_count": 7,
   "id": "a10e0530",
   "metadata": {},
   "outputs": [],
   "source": [
    "review=[]\n",
    "rating=[]\n",
    "review_summary=[]"
   ]
  },
  {
   "cell_type": "code",
   "execution_count": null,
   "id": "5b528b63",
   "metadata": {},
   "outputs": [],
   "source": [
    "#next_review=\"https://www.flipkart.com/hp-core-i3-10th-gen-8-gb-512-gb-ssd-windows-10-home-15s-du1516tu-thin-light-laptop/product-reviews/itm38ece5faec105?pid=COMG442GHMXS9YNX&lid=LSTCOMG442GHMXS9YNXTOIFHR&marketplace=FLIPKART&page=\""
   ]
  },
  {
   "cell_type": "code",
   "execution_count": 8,
   "id": "0d6ed8ac",
   "metadata": {},
   "outputs": [],
   "source": [
    "#connecting to each pages\n",
    "for next_page in range(1,35,1):\n",
    "    next_page=page_link + str(next_page)\n",
    "    #connecting to each page\n",
    "    driver.get(next_page)\n",
    "    #url\n",
    "    for lp in url:\n",
    "        driver.get(lp)\n",
    "        time.sleep(2)\n",
    "      \n",
    "        \n",
    "        #review\n",
    "        try:\n",
    "            title=driver.find_element_by_xpath(\"//p[@class='_2-N8zT']\")\n",
    "            review.append(title.text)\n",
    "        except:\n",
    "            review.append(\"None\")\n",
    "            \n",
    "        #rating\n",
    "        try:\n",
    "            rate=driver.find_element_by_xpath(\"//div[@class='_3LWZlK _1BLPMq']\")\n",
    "            rating.append(rate.text)\n",
    "        except:\n",
    "            rating.append(\"None\")\n",
    "            \n",
    "        #review\n",
    "        try:\n",
    "            summary=driver.find_element_by_xpath(\"//div[@class='t-ZTKy']/div\")\n",
    "            review_summary.append(summary.text)\n",
    "        except:\n",
    "            review_summary.append(\"None\")    "
   ]
  },
  {
   "cell_type": "code",
   "execution_count": 9,
   "id": "7b36f9ba",
   "metadata": {},
   "outputs": [
    {
     "name": "stdout",
     "output_type": "stream",
     "text": [
      "816 816 816\n"
     ]
    }
   ],
   "source": [
    "print(len(rating),len(review),len(review_summary))"
   ]
  },
  {
   "cell_type": "code",
   "execution_count": null,
   "id": "bcf698df",
   "metadata": {},
   "outputs": [],
   "source": [
    "#driver.close()"
   ]
  },
  {
   "cell_type": "markdown",
   "id": "29ffcfa4",
   "metadata": {},
   "source": [
    "# Phones"
   ]
  },
  {
   "cell_type": "code",
   "execution_count": 21,
   "id": "ac31f8c3",
   "metadata": {},
   "outputs": [],
   "source": [
    "#connecting to webdriver\n",
    "driver=webdriver.Chrome(r'C:\\Program Files (x86)\\chromedriver.exe')\n",
    "#opening the url\n",
    "driver.get('https://www.flipkart.com/')\n",
    "time.sleep(2)\n",
    "driver.maximize_window()"
   ]
  },
  {
   "cell_type": "code",
   "execution_count": 22,
   "id": "13a797e3",
   "metadata": {},
   "outputs": [],
   "source": [
    "#closing login button\n",
    "login=driver.find_element_by_xpath(\"//button[@class='_2KpZ6l _2doB4z']\")\n",
    "time.sleep(3)\n",
    "login.click()"
   ]
  },
  {
   "cell_type": "code",
   "execution_count": 23,
   "id": "deb743cd",
   "metadata": {},
   "outputs": [],
   "source": [
    "#searching the product name in search bar\n",
    "search=driver.find_element_by_xpath(\"//div[@class='_3OO5Xc']/input\")\n",
    "search.send_keys(\"smart phones\")\n",
    "\n",
    "#clicking search button in the search button\n",
    "search_btn=driver.find_element_by_xpath(\"//button[@class='L0Z3Pu']\")\n",
    "time.sleep(3)\n",
    "search_btn.click()\n"
   ]
  },
  {
   "cell_type": "code",
   "execution_count": 24,
   "id": "716ea0b4",
   "metadata": {},
   "outputs": [],
   "source": [
    " url=[]\n",
    "#product url\n",
    "for u in driver.find_elements_by_xpath(\"//a[@class='_1fQZEK']\"):\n",
    "    url.append(u.get_attribute(\"href\"))"
   ]
  },
  {
   "cell_type": "code",
   "execution_count": null,
   "id": "0caf6d64",
   "metadata": {},
   "outputs": [],
   "source": [
    "#next page of review link\n",
    "#next_review=\"https://www.flipkart.com/realme-narzo-50a-oxygen-blue-64-gb/product-reviews/itm81d679403c2b4?pid=MOBG6MY4UGGFQWYY&lid=LSTMOBG6MY4UGGFQWYYNSGSOP&marketplace=FLIPKART&page=\""
   ]
  },
  {
   "cell_type": "code",
   "execution_count": 25,
   "id": "95d24ed5",
   "metadata": {},
   "outputs": [],
   "source": [
    "#next page link\n",
    "page_link=\"https://www.flipkart.com/search?q=smart+phones&otracker=search&otracker1=search&marketplace=FLIPKART&as-show=on&as=off&page=\""
   ]
  },
  {
   "cell_type": "code",
   "execution_count": 26,
   "id": "b1d102c2",
   "metadata": {},
   "outputs": [],
   "source": [
    "review_mob=[]\n",
    "rating_mob=[]\n",
    "review_mobsu=[]"
   ]
  },
  {
   "cell_type": "code",
   "execution_count": 27,
   "id": "aa38b197",
   "metadata": {},
   "outputs": [],
   "source": [
    "#connecting to each pages\n",
    "for next_page in range(1,125,1):\n",
    "    next_page=page_link + str(next_page)\n",
    "    #connecting to each page\n",
    "    driver.get(next_page)\n",
    "\n",
    "   #url\n",
    "    for lp in url:\n",
    "        driver.get(lp)\n",
    "        time.sleep(2)\n",
    "        \n",
    "        try:\n",
    "            title=driver.find_element_by_xpath(\"//p[@class='_2-N8zT']\")\n",
    "            review_mob.append(title.text)\n",
    "        except:\n",
    "            review_mob.append(\"None\")\n",
    "    \n",
    "    #rating\n",
    "        try:\n",
    "            rate=driver.find_element_by_xpath(\"//div[@class='_3LWZlK _1BLPMq']\")\n",
    "            rating_mob.append(rate.text)\n",
    "        except:\n",
    "            rating_mob.append(\"None\")\n",
    "            \n",
    "    #review summary\n",
    "        try:\n",
    "            reviews=driver.find_element_by_xpath(\"//div[@class='t-ZTKy']/div\")\n",
    "            review_mobsu.append(reviews.text)\n",
    "        except:\n",
    "            review_mobsu.append(\"None\")"
   ]
  },
  {
   "cell_type": "code",
   "execution_count": 28,
   "id": "7875c5ef",
   "metadata": {},
   "outputs": [
    {
     "data": {
      "text/plain": [
       "2976"
      ]
     },
     "execution_count": 28,
     "metadata": {},
     "output_type": "execute_result"
    }
   ],
   "source": [
    "len(rating_mob)"
   ]
  },
  {
   "cell_type": "code",
   "execution_count": 32,
   "id": "b94cf8e6",
   "metadata": {},
   "outputs": [],
   "source": [
    "#concatenating lists\n",
    "for b in review_mob:\n",
    "    review.append(b)\n",
    "    \n",
    "for m in rating_mob:\n",
    "    rating.append(m)\n",
    "    \n",
    "for y in review_mobsu:\n",
    "    review_summary.append(y)"
   ]
  },
  {
   "cell_type": "code",
   "execution_count": 33,
   "id": "0939478a",
   "metadata": {},
   "outputs": [
    {
     "data": {
      "text/plain": [
       "3792"
      ]
     },
     "execution_count": 33,
     "metadata": {},
     "output_type": "execute_result"
    }
   ],
   "source": [
    "len(rating)"
   ]
  },
  {
   "cell_type": "markdown",
   "id": "1e25cdcc",
   "metadata": {},
   "source": [
    "# Head Phones"
   ]
  },
  {
   "cell_type": "code",
   "execution_count": 49,
   "id": "5958ab1a",
   "metadata": {},
   "outputs": [],
   "source": [
    "#connecting to webdriver\n",
    "driver=webdriver.Chrome(r'C:\\Program Files (x86)\\chromedriver.exe')\n",
    "#opening the url\n",
    "driver.get('https://www.flipkart.com/')\n",
    "time.sleep(2)\n",
    "driver.maximize_window()"
   ]
  },
  {
   "cell_type": "code",
   "execution_count": 50,
   "id": "e715cd27",
   "metadata": {},
   "outputs": [],
   "source": [
    "#closing login button\n",
    "login=driver.find_element_by_xpath(\"//button[@class='_2KpZ6l _2doB4z']\")\n",
    "time.sleep(3)\n",
    "login.click()"
   ]
  },
  {
   "cell_type": "code",
   "execution_count": 51,
   "id": "8096f58f",
   "metadata": {},
   "outputs": [],
   "source": [
    "#searching the product name in search bar\n",
    "search=driver.find_element_by_xpath(\"//div[@class='_3OO5Xc']/input\")\n",
    "search.send_keys(\"Head Phones\")\n",
    "\n",
    "#clicking search button in the search button\n",
    "search_btn=driver.find_element_by_xpath(\"//button[@class='L0Z3Pu']\")\n",
    "time.sleep(3)\n",
    "search_btn.click()"
   ]
  },
  {
   "cell_type": "code",
   "execution_count": 52,
   "id": "c3ba3865",
   "metadata": {},
   "outputs": [],
   "source": [
    " url_head=[]\n",
    "#product url\n",
    "for u in driver.find_elements_by_xpath(\"//a[@class='_2rpwqI']\"):\n",
    "    url_head.append(u.get_attribute(\"href\"))"
   ]
  },
  {
   "cell_type": "code",
   "execution_count": 53,
   "id": "0a9fe409",
   "metadata": {},
   "outputs": [
    {
     "data": {
      "text/plain": [
       "40"
      ]
     },
     "execution_count": 53,
     "metadata": {},
     "output_type": "execute_result"
    }
   ],
   "source": [
    "len(url_head)"
   ]
  },
  {
   "cell_type": "code",
   "execution_count": 54,
   "id": "eaf680dd",
   "metadata": {},
   "outputs": [],
   "source": [
    "#next page link\n",
    "page_link=\"https://www.flipkart.com/search?q=Head+Phones&otracker=search&otracker1=search&marketplace=FLIPKART&as-show=on&as=off&page=\""
   ]
  },
  {
   "cell_type": "code",
   "execution_count": 55,
   "id": "7b88ac67",
   "metadata": {},
   "outputs": [],
   "source": [
    "review_head=[]\n",
    "rating_head=[]\n",
    "review_heads=[]"
   ]
  },
  {
   "cell_type": "code",
   "execution_count": 56,
   "id": "1358eb98",
   "metadata": {},
   "outputs": [],
   "source": [
    "#connecting to each pages\n",
    "for next_page in range(1,100,1):\n",
    "    next_page=page_link + str(next_page)\n",
    "    #connecting to each page\n",
    "    driver.get(next_page)\n",
    "\n",
    "   #url\n",
    "    for hd in url_head:\n",
    "        driver.get(hd)\n",
    "        time.sleep(1)\n",
    "        \n",
    "        try:\n",
    "            title=driver.find_element_by_xpath(\"//p[@class='_2-N8zT']\")\n",
    "            review_head.append(title.text)\n",
    "        except:\n",
    "            review_head.append(\"None\")\n",
    "    \n",
    "    #rating\n",
    "        try:\n",
    "            rate=driver.find_element_by_xpath(\"//div[@class='_3LWZlK _1BLPMq']\")\n",
    "            rating_head.append(rate.text)\n",
    "        except:\n",
    "            rating_head.append(\"None\")\n",
    "            \n",
    "    #review summary\n",
    "        try:\n",
    "            reviews=driver.find_element_by_xpath(\"//div[@class='t-ZTKy']/div\")\n",
    "            review_heads.append(reviews.text)\n",
    "        except:\n",
    "            review_heads.append(\"None\")"
   ]
  },
  {
   "cell_type": "code",
   "execution_count": 57,
   "id": "ddbe74d1",
   "metadata": {},
   "outputs": [
    {
     "data": {
      "text/plain": [
       "3960"
      ]
     },
     "execution_count": 57,
     "metadata": {},
     "output_type": "execute_result"
    }
   ],
   "source": [
    "len(rating_head)"
   ]
  },
  {
   "cell_type": "code",
   "execution_count": 61,
   "id": "cd1b242b",
   "metadata": {},
   "outputs": [],
   "source": [
    "#concatenating lists\n",
    "for b in review_head:\n",
    "    review.append(b)\n",
    "    \n",
    "for m in rating_head:\n",
    "    rating.append(m)\n",
    "    \n",
    "for y in review_heads:\n",
    "    review_summary.append(y)"
   ]
  },
  {
   "cell_type": "code",
   "execution_count": 62,
   "id": "35272070",
   "metadata": {},
   "outputs": [
    {
     "data": {
      "text/plain": [
       "7752"
      ]
     },
     "execution_count": 62,
     "metadata": {},
     "output_type": "execute_result"
    }
   ],
   "source": [
    "len(review)"
   ]
  },
  {
   "cell_type": "markdown",
   "id": "bda5e0b1",
   "metadata": {},
   "source": [
    "# Smart Watch"
   ]
  },
  {
   "cell_type": "code",
   "execution_count": 69,
   "id": "2617e539",
   "metadata": {},
   "outputs": [],
   "source": [
    "#connecting to webdriver\n",
    "driver=webdriver.Chrome(r'C:\\Program Files (x86)\\chromedriver.exe')\n",
    "#opening the url\n",
    "driver.get('https://www.flipkart.com/')\n",
    "time.sleep(2)\n",
    "driver.maximize_window()"
   ]
  },
  {
   "cell_type": "code",
   "execution_count": 70,
   "id": "71d6ade9",
   "metadata": {},
   "outputs": [],
   "source": [
    "#closing login button\n",
    "login=driver.find_element_by_xpath(\"//button[@class='_2KpZ6l _2doB4z']\")\n",
    "time.sleep(3)\n",
    "login.click()"
   ]
  },
  {
   "cell_type": "code",
   "execution_count": 71,
   "id": "5bf6d8d7",
   "metadata": {},
   "outputs": [],
   "source": [
    "#searching the product name in search bar\n",
    "search=driver.find_element_by_xpath(\"//div[@class='_3OO5Xc']/input\")\n",
    "search.send_keys(\"Smart Watches\")\n",
    "\n",
    "#clicking search button in the search button\n",
    "search_btn=driver.find_element_by_xpath(\"//button[@class='L0Z3Pu']\")\n",
    "time.sleep(3)\n",
    "search_btn.click()"
   ]
  },
  {
   "cell_type": "code",
   "execution_count": 72,
   "id": "6ab11609",
   "metadata": {},
   "outputs": [],
   "source": [
    " url_smart=[]\n",
    "#product url\n",
    "for u in driver.find_elements_by_xpath(\"//a[@class='_1fQZEK']\"):\n",
    "    url_smart.append(u.get_attribute(\"href\"))"
   ]
  },
  {
   "cell_type": "code",
   "execution_count": 73,
   "id": "cd470045",
   "metadata": {},
   "outputs": [
    {
     "data": {
      "text/plain": [
       "24"
      ]
     },
     "execution_count": 73,
     "metadata": {},
     "output_type": "execute_result"
    }
   ],
   "source": [
    "len(url_smart)"
   ]
  },
  {
   "cell_type": "code",
   "execution_count": 74,
   "id": "1ac57656",
   "metadata": {},
   "outputs": [],
   "source": [
    "#next page link\n",
    "page_link=\"https://www.flipkart.com/search?q=Smart+Watches&otracker=search&otracker1=search&marketplace=FLIPKART&as-show=on&as=off&page=\""
   ]
  },
  {
   "cell_type": "code",
   "execution_count": 75,
   "id": "39579f3f",
   "metadata": {},
   "outputs": [],
   "source": [
    "review_smart=[]\n",
    "rating_smart=[]\n",
    "review_smartsu=[]\n",
    "\n",
    "#connecting to each pages\n",
    "for next_page in range(1,80,1):\n",
    "    next_page=page_link + str(next_page)\n",
    "    #connecting to each page\n",
    "    driver.get(next_page)\n",
    "\n",
    "   #url\n",
    "    for st in url_smart:\n",
    "        driver.get(st)\n",
    "        time.sleep(1)\n",
    "        \n",
    "        try:\n",
    "            title=driver.find_element_by_xpath(\"//p[@class='_2-N8zT']\")\n",
    "            review_smart.append(title.text)\n",
    "        except:\n",
    "            review_smart.append(\"None\")\n",
    "    \n",
    "    #rating\n",
    "        try:\n",
    "            rate=driver.find_element_by_xpath(\"//div[@class='_3LWZlK _1BLPMq']\")\n",
    "            rating_smart.append(rate.text)\n",
    "        except:\n",
    "            rating_smart.append(\"None\")\n",
    "            \n",
    "    #review summary\n",
    "        try:\n",
    "            reviews=driver.find_element_by_xpath(\"//div[@class='t-ZTKy']/div\")\n",
    "            review_smartsu.append(reviews.text)\n",
    "        except:\n",
    "            review_smartsu.append(\"None\")"
   ]
  },
  {
   "cell_type": "code",
   "execution_count": 76,
   "id": "4044a4ab",
   "metadata": {},
   "outputs": [
    {
     "data": {
      "text/plain": [
       "1896"
      ]
     },
     "execution_count": 76,
     "metadata": {},
     "output_type": "execute_result"
    }
   ],
   "source": [
    "len(rating_smart)"
   ]
  },
  {
   "cell_type": "code",
   "execution_count": 80,
   "id": "76b7e34d",
   "metadata": {},
   "outputs": [],
   "source": [
    "#concatenating lists\n",
    "for b in review_smart:\n",
    "    review.append(b)\n",
    "    \n",
    "for m in rating_smart:\n",
    "    rating.append(m)\n",
    "    \n",
    "for y in review_smartsu:\n",
    "    review_summary.append(y)"
   ]
  },
  {
   "cell_type": "code",
   "execution_count": 81,
   "id": "7fb4947f",
   "metadata": {},
   "outputs": [
    {
     "name": "stdout",
     "output_type": "stream",
     "text": [
      "9648 9648 9648\n"
     ]
    }
   ],
   "source": [
    "print(len(review),len(review),len(review_summary))"
   ]
  },
  {
   "cell_type": "markdown",
   "id": "b8b8d10a",
   "metadata": {},
   "source": [
    "# Cameras"
   ]
  },
  {
   "cell_type": "code",
   "execution_count": 82,
   "id": "af3a402c",
   "metadata": {},
   "outputs": [],
   "source": [
    "#connecting to webdriver\n",
    "driver=webdriver.Chrome(r'C:\\Program Files (x86)\\chromedriver.exe')\n",
    "#opening the url\n",
    "driver.get('https://www.flipkart.com/')\n",
    "time.sleep(2)\n",
    "driver.maximize_window()"
   ]
  },
  {
   "cell_type": "code",
   "execution_count": 83,
   "id": "bf39783e",
   "metadata": {},
   "outputs": [],
   "source": [
    "#closing login button\n",
    "login=driver.find_element_by_xpath(\"//button[@class='_2KpZ6l _2doB4z']\")\n",
    "time.sleep(3)\n",
    "login.click()"
   ]
  },
  {
   "cell_type": "code",
   "execution_count": 84,
   "id": "73c13656",
   "metadata": {},
   "outputs": [],
   "source": [
    "#searching the product name in search bar\n",
    "search=driver.find_element_by_xpath(\"//div[@class='_3OO5Xc']/input\")\n",
    "search.send_keys(\"Cameras\")\n",
    "\n",
    "#clicking search button in the search button\n",
    "search_btn=driver.find_element_by_xpath(\"//button[@class='L0Z3Pu']\")\n",
    "time.sleep(3)\n",
    "search_btn.click()"
   ]
  },
  {
   "cell_type": "code",
   "execution_count": 85,
   "id": "2aaadd2b",
   "metadata": {},
   "outputs": [],
   "source": [
    " url_cam=[]\n",
    "#product url\n",
    "for u in driver.find_elements_by_xpath(\"//a[@class='_2rpwqI']\"):\n",
    "    url_cam.append(u.get_attribute(\"href\"))"
   ]
  },
  {
   "cell_type": "code",
   "execution_count": 86,
   "id": "68648240",
   "metadata": {},
   "outputs": [
    {
     "data": {
      "text/plain": [
       "40"
      ]
     },
     "execution_count": 86,
     "metadata": {},
     "output_type": "execute_result"
    }
   ],
   "source": [
    "len(url_cam)"
   ]
  },
  {
   "cell_type": "code",
   "execution_count": 87,
   "id": "b8bc0d6b",
   "metadata": {},
   "outputs": [],
   "source": [
    "#next page link\n",
    "page_link=\"https://www.flipkart.com/search?q=Cameras&otracker=search&otracker1=search&marketplace=FLIPKART&as-show=on&as=off&page=\""
   ]
  },
  {
   "cell_type": "code",
   "execution_count": 88,
   "id": "54e9c32f",
   "metadata": {},
   "outputs": [],
   "source": [
    "review_cam=[]\n",
    "rating_cam=[]\n",
    "review_camsu=[]\n",
    "\n",
    "#connecting to each pages\n",
    "for next_page in range(1,50):\n",
    "    next_page=page_link + str(next_page)\n",
    "    #connecting to each page\n",
    "    driver.get(next_page)\n",
    "\n",
    "   #url\n",
    "    for cm in url_cam:\n",
    "        driver.get(cm)\n",
    "        time.sleep(1)\n",
    "        \n",
    "        try:\n",
    "            title=driver.find_element_by_xpath(\"//p[@class='_2-N8zT']\")\n",
    "            review_cam.append(title.text)\n",
    "        except:\n",
    "            review_cam.append(\"None\")\n",
    "    \n",
    "    #rating\n",
    "        try:\n",
    "            rate=driver.find_element_by_xpath(\"//div[@class='_3LWZlK _1BLPMq']\")\n",
    "            rating_cam.append(rate.text)\n",
    "        except:\n",
    "            rating_cam.append(\"None\")\n",
    "            \n",
    "    #review summary\n",
    "        try:\n",
    "            reviews=driver.find_element_by_xpath(\"//div[@class='t-ZTKy']/div\")\n",
    "            review_camsu.append(reviews.text.replace('\\n',''))\n",
    "        except:\n",
    "            review_camsu.append(\"None\")"
   ]
  },
  {
   "cell_type": "code",
   "execution_count": 89,
   "id": "ca802015",
   "metadata": {},
   "outputs": [
    {
     "data": {
      "text/plain": [
       "1960"
      ]
     },
     "execution_count": 89,
     "metadata": {},
     "output_type": "execute_result"
    }
   ],
   "source": [
    "len(rating_cam)"
   ]
  },
  {
   "cell_type": "code",
   "execution_count": 93,
   "id": "6e599ff5",
   "metadata": {},
   "outputs": [],
   "source": [
    "#concatenating lists\n",
    "for b in review_cam:\n",
    "    review.append(b)\n",
    "    \n",
    "for m in rating_cam:\n",
    "    rating.append(m)\n",
    "    \n",
    "for y in review_camsu:\n",
    "    review_summary.append(y)"
   ]
  },
  {
   "cell_type": "code",
   "execution_count": 94,
   "id": "bc61c49c",
   "metadata": {},
   "outputs": [
    {
     "name": "stdout",
     "output_type": "stream",
     "text": [
      "11608 11608 11608\n"
     ]
    }
   ],
   "source": [
    "print(len(review),len(review),len(review_summary))"
   ]
  },
  {
   "cell_type": "markdown",
   "id": "72e9be1b",
   "metadata": {},
   "source": [
    "# Printers"
   ]
  },
  {
   "cell_type": "code",
   "execution_count": 120,
   "id": "fe6aa5b7",
   "metadata": {},
   "outputs": [],
   "source": [
    "#connecting to webdriver\n",
    "driver=webdriver.Chrome(r'C:\\Program Files (x86)\\chromedriver.exe')\n",
    "#opening the url\n",
    "driver.get('https://www.flipkart.com/')\n",
    "time.sleep(2)\n",
    "driver.maximize_window()"
   ]
  },
  {
   "cell_type": "code",
   "execution_count": 121,
   "id": "4c3c362a",
   "metadata": {},
   "outputs": [],
   "source": [
    "#closing login button\n",
    "login=driver.find_element_by_xpath(\"//button[@class='_2KpZ6l _2doB4z']\")\n",
    "time.sleep(3)\n",
    "login.click()"
   ]
  },
  {
   "cell_type": "code",
   "execution_count": 122,
   "id": "a342c0e7",
   "metadata": {},
   "outputs": [],
   "source": [
    "#searching the product name in search bar\n",
    "search=driver.find_element_by_xpath(\"//div[@class='_3OO5Xc']/input\")\n",
    "search.send_keys(\"Printers\")\n",
    "\n",
    "#clicking search button in the search button\n",
    "search_btn=driver.find_element_by_xpath(\"//button[@class='L0Z3Pu']\")\n",
    "time.sleep(3)\n",
    "search_btn.click()"
   ]
  },
  {
   "cell_type": "code",
   "execution_count": 123,
   "id": "4b7f48ee",
   "metadata": {},
   "outputs": [],
   "source": [
    " url_print=[]\n",
    "#product url\n",
    "for u in driver.find_elements_by_xpath(\"//a[@class='_2rpwqI']\"):\n",
    "    url_print.append(u.get_attribute(\"href\"))"
   ]
  },
  {
   "cell_type": "code",
   "execution_count": 124,
   "id": "fef57bee",
   "metadata": {},
   "outputs": [
    {
     "data": {
      "text/plain": [
       "40"
      ]
     },
     "execution_count": 124,
     "metadata": {},
     "output_type": "execute_result"
    }
   ],
   "source": [
    "len(url_print)"
   ]
  },
  {
   "cell_type": "code",
   "execution_count": 125,
   "id": "92d14807",
   "metadata": {},
   "outputs": [],
   "source": [
    "#next page link\n",
    "page_link=\"https://www.flipkart.com/search?q=Printers&otracker=search&otracker1=search&marketplace=FLIPKART&as-show=on&as=off&page=\""
   ]
  },
  {
   "cell_type": "code",
   "execution_count": 126,
   "id": "f8a1e88e",
   "metadata": {},
   "outputs": [],
   "source": [
    "review_print=[]\n",
    "rating_print=[]\n",
    "review_printsum=[]\n",
    "\n",
    "#connecting to each pages\n",
    "for next_page in range(1,55):\n",
    "    next_page=page_link + str(next_page)\n",
    "    #connecting to each page\n",
    "    driver.get(next_page)\n",
    "\n",
    "   #url\n",
    "    for pr in url_print:\n",
    "        driver.get(pr)\n",
    "        time.sleep(1)\n",
    "        \n",
    "        try:\n",
    "            title=driver.find_element_by_xpath(\"//p[@class='_2-N8zT']\")\n",
    "            review_print.append(title.text)\n",
    "        except:\n",
    "            review_print.append(\"None\")\n",
    "    \n",
    "    #rating\n",
    "        try:\n",
    "            rate=driver.find_element_by_xpath(\"//div[@class='_3LWZlK _1BLPMq']\")\n",
    "            rating_print.append(rate.text)\n",
    "        except:\n",
    "            rating_print.append(\"None\")\n",
    "            \n",
    "    #review summary\n",
    "        try:\n",
    "            reviews=driver.find_element_by_xpath(\"//div[@class='t-ZTKy']/div\")\n",
    "            review_printsum.append(reviews.text.replace('\\n',''))\n",
    "        except:\n",
    "            review_printsum.append(\"None\")"
   ]
  },
  {
   "cell_type": "code",
   "execution_count": 130,
   "id": "3a1ba56b",
   "metadata": {},
   "outputs": [
    {
     "data": {
      "text/plain": [
       "2160"
      ]
     },
     "execution_count": 130,
     "metadata": {},
     "output_type": "execute_result"
    }
   ],
   "source": [
    "len(rating_print)"
   ]
  },
  {
   "cell_type": "code",
   "execution_count": 131,
   "id": "b7ad406b",
   "metadata": {},
   "outputs": [],
   "source": [
    "#concatenating lists\n",
    "for b in review_print:\n",
    "    review.append(b)\n",
    "    \n",
    "for m in rating_print:\n",
    "    rating.append(m)\n",
    "    \n",
    "for y in review_printsum:\n",
    "    review_summary.append(y)"
   ]
  },
  {
   "cell_type": "code",
   "execution_count": 132,
   "id": "7be99545",
   "metadata": {},
   "outputs": [
    {
     "name": "stdout",
     "output_type": "stream",
     "text": [
      "13768 13768 13768\n"
     ]
    }
   ],
   "source": [
    "print(len(review),len(review),len(review_summary))"
   ]
  },
  {
   "cell_type": "markdown",
   "id": "c6b4748f",
   "metadata": {},
   "source": [
    "# Monitors"
   ]
  },
  {
   "cell_type": "code",
   "execution_count": 133,
   "id": "74d36463",
   "metadata": {},
   "outputs": [],
   "source": [
    "#connecting to webdriver\n",
    "driver=webdriver.Chrome(r'C:\\Program Files (x86)\\chromedriver.exe')\n",
    "#opening the url\n",
    "driver.get('https://www.flipkart.com/')\n",
    "time.sleep(2)\n",
    "driver.maximize_window()"
   ]
  },
  {
   "cell_type": "code",
   "execution_count": 134,
   "id": "c0c0616f",
   "metadata": {},
   "outputs": [],
   "source": [
    "#closing login button\n",
    "login=driver.find_element_by_xpath(\"//button[@class='_2KpZ6l _2doB4z']\")\n",
    "time.sleep(3)\n",
    "login.click()"
   ]
  },
  {
   "cell_type": "code",
   "execution_count": 135,
   "id": "5e9c8054",
   "metadata": {},
   "outputs": [],
   "source": [
    "#searching the product name in search bar\n",
    "search=driver.find_element_by_xpath(\"//div[@class='_3OO5Xc']/input\")\n",
    "search.send_keys(\"Monitors\")\n",
    "\n",
    "#clicking search button in the search button\n",
    "search_btn=driver.find_element_by_xpath(\"//button[@class='L0Z3Pu']\")\n",
    "time.sleep(3)\n",
    "search_btn.click()"
   ]
  },
  {
   "cell_type": "code",
   "execution_count": 136,
   "id": "db9f8791",
   "metadata": {},
   "outputs": [],
   "source": [
    " url_mon=[]\n",
    "#product url\n",
    "for u in driver.find_elements_by_xpath(\"//a[@class='_1fQZEK']\"):\n",
    "    url_mon.append(u.get_attribute(\"href\"))"
   ]
  },
  {
   "cell_type": "code",
   "execution_count": 137,
   "id": "8f64e511",
   "metadata": {},
   "outputs": [
    {
     "data": {
      "text/plain": [
       "40"
      ]
     },
     "execution_count": 137,
     "metadata": {},
     "output_type": "execute_result"
    }
   ],
   "source": [
    "len(url_mon)"
   ]
  },
  {
   "cell_type": "code",
   "execution_count": 138,
   "id": "bb692912",
   "metadata": {},
   "outputs": [],
   "source": [
    "#next page link\n",
    "page_link=\"https://www.flipkart.com/search?q=Monitors&otracker=search&otracker1=search&marketplace=FLIPKART&as-show=on&as=off&page=\""
   ]
  },
  {
   "cell_type": "code",
   "execution_count": 139,
   "id": "5124c583",
   "metadata": {},
   "outputs": [],
   "source": [
    "review_mon=[]\n",
    "rating_mon=[]\n",
    "review_monsum=[]\n",
    "\n",
    "#connecting to each pages\n",
    "for next_page in range(1,11):\n",
    "    next_page=page_link + str(next_page)\n",
    "    #connecting to each page\n",
    "    driver.get(next_page)\n",
    "\n",
    "   #url\n",
    "    for mn in url_mon:\n",
    "        driver.get(mn)\n",
    "        time.sleep(1)\n",
    "        \n",
    "        try:\n",
    "            title=driver.find_element_by_xpath(\"//p[@class='_2-N8zT']\")\n",
    "            review_mon.append(title.text)\n",
    "        except:\n",
    "            review_mon.append(\"None\")\n",
    "    \n",
    "    #rating\n",
    "        try:\n",
    "            rate=driver.find_element_by_xpath(\"//div[@class='_3LWZlK _1BLPMq']\")\n",
    "            rating_mon.append(rate.text)\n",
    "        except:\n",
    "            rating_mon.append(\"None\")\n",
    "            \n",
    "    #review summary\n",
    "        try:\n",
    "            reviews=driver.find_element_by_xpath(\"//div[@class='t-ZTKy']/div\")\n",
    "            review_monsum.append(reviews.text.replace('\\n',''))\n",
    "        except:\n",
    "            review_monsum.append(\"None\")"
   ]
  },
  {
   "cell_type": "code",
   "execution_count": 143,
   "id": "b219e4d5",
   "metadata": {},
   "outputs": [
    {
     "data": {
      "text/plain": [
       "400"
      ]
     },
     "execution_count": 143,
     "metadata": {},
     "output_type": "execute_result"
    }
   ],
   "source": [
    "len(review_monsum)"
   ]
  },
  {
   "cell_type": "code",
   "execution_count": 144,
   "id": "867ffc23",
   "metadata": {},
   "outputs": [],
   "source": [
    "#concatenating lists\n",
    "for b in review_mon:\n",
    "    review.append(b)\n",
    "    \n",
    "for m in rating_mon:\n",
    "    rating.append(m)\n",
    "    \n",
    "for y in review_monsum:\n",
    "    review_summary.append(y)"
   ]
  },
  {
   "cell_type": "code",
   "execution_count": 145,
   "id": "3ff3a69d",
   "metadata": {},
   "outputs": [
    {
     "name": "stdout",
     "output_type": "stream",
     "text": [
      "14168 14168 14168\n"
     ]
    }
   ],
   "source": [
    "print(len(review),len(review),len(review_summary))"
   ]
  },
  {
   "cell_type": "markdown",
   "id": "8de4ab31",
   "metadata": {},
   "source": [
    "# Home theater"
   ]
  },
  {
   "cell_type": "code",
   "execution_count": 156,
   "id": "9031471a",
   "metadata": {},
   "outputs": [],
   "source": [
    "#connecting to webdriver\n",
    "driver=webdriver.Chrome(r'C:\\Program Files (x86)\\chromedriver.exe')\n",
    "#opening the url\n",
    "driver.get('https://www.flipkart.com/')\n",
    "time.sleep(2)\n",
    "driver.maximize_window()"
   ]
  },
  {
   "cell_type": "code",
   "execution_count": 157,
   "id": "112c16e6",
   "metadata": {},
   "outputs": [],
   "source": [
    "#closing login button\n",
    "login=driver.find_element_by_xpath(\"//button[@class='_2KpZ6l _2doB4z']\")\n",
    "time.sleep(3)\n",
    "login.click()"
   ]
  },
  {
   "cell_type": "code",
   "execution_count": 158,
   "id": "8c5f3a03",
   "metadata": {},
   "outputs": [],
   "source": [
    "#searching the product name in search bar\n",
    "search=driver.find_element_by_xpath(\"//div[@class='_3OO5Xc']/input\")\n",
    "search.send_keys(\"Home theater\")\n",
    "\n",
    "#clicking search button in the search button\n",
    "search_btn=driver.find_element_by_xpath(\"//button[@class='L0Z3Pu']\")\n",
    "time.sleep(3)\n",
    "search_btn.click()"
   ]
  },
  {
   "cell_type": "code",
   "execution_count": 159,
   "id": "e6bada88",
   "metadata": {},
   "outputs": [],
   "source": [
    " url_home=[]\n",
    "#product url\n",
    "for u in driver.find_elements_by_xpath(\"//a[@class='_2rpwqI']\"):\n",
    "    url_home.append(u.get_attribute(\"href\"))"
   ]
  },
  {
   "cell_type": "code",
   "execution_count": 160,
   "id": "f1f81470",
   "metadata": {},
   "outputs": [
    {
     "data": {
      "text/plain": [
       "40"
      ]
     },
     "execution_count": 160,
     "metadata": {},
     "output_type": "execute_result"
    }
   ],
   "source": [
    "len(url_home)"
   ]
  },
  {
   "cell_type": "code",
   "execution_count": 161,
   "id": "31d55cd8",
   "metadata": {},
   "outputs": [],
   "source": [
    "#next page link\n",
    "page_link=\"https://www.flipkart.com/search?q=Home+theater&otracker=search&otracker1=search&marketplace=FLIPKART&as-show=on&as=off&page=\""
   ]
  },
  {
   "cell_type": "code",
   "execution_count": 162,
   "id": "d4edfd6f",
   "metadata": {},
   "outputs": [],
   "source": [
    "review_home1=[]\n",
    "rating_home1=[]\n",
    "review_homesum1=[]\n",
    "\n",
    "#connecting to each pages\n",
    "for next_page in range(1,55):\n",
    "    next_page=page_link + str(next_page)\n",
    "    #connecting to each page\n",
    "    driver.get(next_page)\n",
    "\n",
    "   #url\n",
    "    for ho in url_home:\n",
    "        driver.get(ho)\n",
    "        time.sleep(1)\n",
    "        \n",
    "        try:\n",
    "            title=driver.find_element_by_xpath(\"//p[@class='_2-N8zT']\")\n",
    "            review_home1.append(title.text)\n",
    "        except:\n",
    "            review_home1.append(\"None\")\n",
    "    \n",
    "    #rating\n",
    "        try:\n",
    "            rate=driver.find_element_by_xpath(\"//div[@class='_3LWZlK _1BLPMq']\")\n",
    "            rating_home1.append(rate.text)\n",
    "        except:\n",
    "            rating_home1.append(\"None\")\n",
    "            \n",
    "    #review summary\n",
    "        try:\n",
    "            reviews=driver.find_element_by_xpath(\"//div[@class='t-ZTKy']/div\")\n",
    "            review_homesum1.append(reviews.text.replace('\\n',''))\n",
    "        except:\n",
    "            review_homesum1.append(\"None\")"
   ]
  },
  {
   "cell_type": "code",
   "execution_count": 164,
   "id": "ea6ab193",
   "metadata": {},
   "outputs": [
    {
     "data": {
      "text/plain": [
       "2160"
      ]
     },
     "execution_count": 164,
     "metadata": {},
     "output_type": "execute_result"
    }
   ],
   "source": [
    "len(rating_home1)"
   ]
  },
  {
   "cell_type": "code",
   "execution_count": 168,
   "id": "cb08c7f1",
   "metadata": {},
   "outputs": [],
   "source": [
    "#concatenating lists\n",
    "for b in review_home1:\n",
    "    review.append(b)\n",
    "    \n",
    "for m in rating_home1:\n",
    "    rating.append(m)\n",
    "    \n",
    "for y in review_homesum1:\n",
    "    review_summary.append(y)"
   ]
  },
  {
   "cell_type": "code",
   "execution_count": 169,
   "id": "34d307e3",
   "metadata": {},
   "outputs": [
    {
     "name": "stdout",
     "output_type": "stream",
     "text": [
      "16328 16328 16328\n"
     ]
    }
   ],
   "source": [
    "print(len(review),len(review),len(review_summary))"
   ]
  },
  {
   "cell_type": "markdown",
   "id": "4a748d28",
   "metadata": {},
   "source": [
    "# Router"
   ]
  },
  {
   "cell_type": "code",
   "execution_count": 170,
   "id": "d5a5dc74",
   "metadata": {},
   "outputs": [],
   "source": [
    "#connecting to webdriver\n",
    "driver=webdriver.Chrome(r'C:\\Program Files (x86)\\chromedriver.exe')\n",
    "#opening the url\n",
    "driver.get('https://www.flipkart.com/')\n",
    "time.sleep(2)\n",
    "driver.maximize_window()"
   ]
  },
  {
   "cell_type": "code",
   "execution_count": 171,
   "id": "4b73820d",
   "metadata": {},
   "outputs": [],
   "source": [
    "#closing login button\n",
    "login=driver.find_element_by_xpath(\"//button[@class='_2KpZ6l _2doB4z']\")\n",
    "time.sleep(3)\n",
    "login.click()"
   ]
  },
  {
   "cell_type": "code",
   "execution_count": 172,
   "id": "2a938c42",
   "metadata": {},
   "outputs": [],
   "source": [
    "#searching the product name in search bar\n",
    "search=driver.find_element_by_xpath(\"//div[@class='_3OO5Xc']/input\")\n",
    "search.send_keys(\"Router\")\n",
    "\n",
    "#clicking search button in the search button\n",
    "search_btn=driver.find_element_by_xpath(\"//button[@class='L0Z3Pu']\")\n",
    "time.sleep(3)\n",
    "search_btn.click()"
   ]
  },
  {
   "cell_type": "code",
   "execution_count": 173,
   "id": "9eaab063",
   "metadata": {},
   "outputs": [],
   "source": [
    "url_router=[]\n",
    "#product url\n",
    "for u in driver.find_elements_by_xpath(\"//a[@class='_2rpwqI']\"):\n",
    "    url_router.append(u.get_attribute(\"href\"))"
   ]
  },
  {
   "cell_type": "code",
   "execution_count": 174,
   "id": "7eaf51ee",
   "metadata": {},
   "outputs": [
    {
     "data": {
      "text/plain": [
       "40"
      ]
     },
     "execution_count": 174,
     "metadata": {},
     "output_type": "execute_result"
    }
   ],
   "source": [
    "len(url_router)"
   ]
  },
  {
   "cell_type": "code",
   "execution_count": 175,
   "id": "f9129b62",
   "metadata": {},
   "outputs": [],
   "source": [
    "#next page link\n",
    "page_link=\"https://www.flipkart.com/search?q=router&otracker=search&otracker1=search&marketplace=FLIPKART&as-show=on&as=off&page=\""
   ]
  },
  {
   "cell_type": "code",
   "execution_count": 176,
   "id": "39a5032c",
   "metadata": {},
   "outputs": [],
   "source": [
    "review_router=[]\n",
    "rating_router=[]\n",
    "review_routersum=[]\n",
    "\n",
    "#connecting to each pages\n",
    "for next_page in range(1,20):\n",
    "    next_page=page_link + str(next_page)\n",
    "    #connecting to each page\n",
    "    driver.get(next_page)\n",
    "\n",
    "   #url\n",
    "    for ru in url_router:\n",
    "        driver.get(ru)\n",
    "        time.sleep(1)\n",
    "        \n",
    "        try:\n",
    "            title=driver.find_element_by_xpath(\"//p[@class='_2-N8zT']\")\n",
    "            review_router.append(title.text)\n",
    "        except:\n",
    "            review_router.append(\"None\")\n",
    "    \n",
    "    #rating\n",
    "        try:\n",
    "            rate=driver.find_element_by_xpath(\"//div[@class='_3LWZlK _1BLPMq']\")\n",
    "            rating_router.append(rate.text)\n",
    "        except:\n",
    "            rating_router.append(\"None\")\n",
    "            \n",
    "    #review summary\n",
    "        try:\n",
    "            reviews=driver.find_element_by_xpath(\"//div[@class='t-ZTKy']/div\")\n",
    "            review_routersum.append(reviews.text.replace('\\n',''))\n",
    "        except:\n",
    "            review_routersum.append(\"None\")"
   ]
  },
  {
   "cell_type": "code",
   "execution_count": 180,
   "id": "ad7f5325",
   "metadata": {},
   "outputs": [
    {
     "data": {
      "text/plain": [
       "760"
      ]
     },
     "execution_count": 180,
     "metadata": {},
     "output_type": "execute_result"
    }
   ],
   "source": [
    "len(review_routersum)"
   ]
  },
  {
   "cell_type": "code",
   "execution_count": 181,
   "id": "3951929a",
   "metadata": {},
   "outputs": [],
   "source": [
    "#concatenating lists\n",
    "for b in review_router:\n",
    "    review.append(b)\n",
    "    \n",
    "for m in rating_router:\n",
    "    rating.append(m)\n",
    "    \n",
    "for y in review_routersum:\n",
    "    review_summary.append(y)"
   ]
  },
  {
   "cell_type": "code",
   "execution_count": 182,
   "id": "8cd000b2",
   "metadata": {},
   "outputs": [
    {
     "name": "stdout",
     "output_type": "stream",
     "text": [
      "17088 17088 17088\n"
     ]
    }
   ],
   "source": [
    "print(len(review),len(review),len(review_summary))"
   ]
  },
  {
   "cell_type": "code",
   "execution_count": null,
   "id": "ed513787",
   "metadata": {},
   "outputs": [],
   "source": []
  },
  {
   "cell_type": "code",
   "execution_count": 237,
   "id": "4832df7c",
   "metadata": {},
   "outputs": [],
   "source": [
    "#connecting to webdriver\n",
    "driver=webdriver.Chrome(r'C:\\Program Files (x86)\\chromedriver.exe')\n",
    "#opening the url\n",
    "driver.get('https://www.flipkart.com/')\n",
    "time.sleep(2)\n",
    "driver.maximize_window()"
   ]
  },
  {
   "cell_type": "code",
   "execution_count": 238,
   "id": "cacf8bda",
   "metadata": {},
   "outputs": [],
   "source": [
    "#closing login button\n",
    "login=driver.find_element_by_xpath(\"//button[@class='_2KpZ6l _2doB4z']\")\n",
    "time.sleep(3)\n",
    "login.click()"
   ]
  },
  {
   "cell_type": "code",
   "execution_count": 239,
   "id": "48a40e36",
   "metadata": {},
   "outputs": [],
   "source": [
    "#searching the product name in search bar\n",
    "search=driver.find_element_by_xpath(\"//div[@class='_3OO5Xc']/input\")\n",
    "search.send_keys(\"Printers\")\n",
    "\n",
    "#clicking search button in the search button\n",
    "search_btn=driver.find_element_by_xpath(\"//button[@class='L0Z3Pu']\")\n",
    "time.sleep(3)\n",
    "search_btn.click()"
   ]
  },
  {
   "cell_type": "code",
   "execution_count": 240,
   "id": "ebb5c19b",
   "metadata": {},
   "outputs": [],
   "source": [
    " url_print=[]\n",
    "#product url\n",
    "for u in driver.find_elements_by_xpath(\"//a[@class='_2rpwqI']\"):\n",
    "    url_print.append(u.get_attribute(\"href\"))"
   ]
  },
  {
   "cell_type": "code",
   "execution_count": 241,
   "id": "e4c8948c",
   "metadata": {},
   "outputs": [
    {
     "data": {
      "text/plain": [
       "40"
      ]
     },
     "execution_count": 241,
     "metadata": {},
     "output_type": "execute_result"
    }
   ],
   "source": [
    "len(url_print)"
   ]
  },
  {
   "cell_type": "code",
   "execution_count": 242,
   "id": "e4a24f06",
   "metadata": {},
   "outputs": [],
   "source": [
    "#next page link\n",
    "page_link=\"https://www.flipkart.com/search?q=Printers&otracker=search&otracker1=search&marketplace=FLIPKART&as-show=on&as=off&page=\""
   ]
  },
  {
   "cell_type": "code",
   "execution_count": 243,
   "id": "df1f0a8e",
   "metadata": {},
   "outputs": [],
   "source": [
    "review_print=[]\n",
    "rating_print=[]\n",
    "review_printsum=[]\n",
    "\n",
    "#connecting to each pages\n",
    "for next_page in range(55,90):\n",
    "    next_page=page_link + str(next_page)\n",
    "    #connecting to each page\n",
    "    driver.get(next_page)\n",
    "\n",
    "   #url\n",
    "    for pr in url_print:\n",
    "        driver.get(pr)\n",
    "        time.sleep(1)\n",
    "        \n",
    "        try:\n",
    "            title=driver.find_element_by_xpath(\"//p[@class='_2-N8zT']\")\n",
    "            review_print.append(title.text)\n",
    "        except:\n",
    "            review_print.append(\"None\")\n",
    "    \n",
    "    #rating\n",
    "        try:\n",
    "            rate=driver.find_element_by_xpath(\"//div[@class='_3LWZlK _1BLPMq']\")\n",
    "            rating_print.append(rate.text)\n",
    "        except:\n",
    "            rating_print.append(\"None\")\n",
    "            \n",
    "    #review summary\n",
    "        try:\n",
    "            reviews=driver.find_element_by_xpath(\"//div[@class='t-ZTKy']/div\")\n",
    "            review_printsum.append(reviews.text.replace('\\n',''))\n",
    "        except:\n",
    "            review_printsum.append(\"None\")"
   ]
  },
  {
   "cell_type": "code",
   "execution_count": 244,
   "id": "ef07d5b8",
   "metadata": {},
   "outputs": [
    {
     "data": {
      "text/plain": [
       "1400"
      ]
     },
     "execution_count": 244,
     "metadata": {},
     "output_type": "execute_result"
    }
   ],
   "source": [
    "len(review_print)"
   ]
  },
  {
   "cell_type": "code",
   "execution_count": 248,
   "id": "cc9f6b76",
   "metadata": {},
   "outputs": [],
   "source": [
    "#concatenating lists\n",
    "for b in review_print:\n",
    "    review.append(b)\n",
    "    \n",
    "for m in rating_print:\n",
    "    rating.append(m)\n",
    "    \n",
    "for y in review_printsum:\n",
    "    review_summary.append(y)"
   ]
  },
  {
   "cell_type": "code",
   "execution_count": 249,
   "id": "15cc1fe9",
   "metadata": {},
   "outputs": [
    {
     "name": "stdout",
     "output_type": "stream",
     "text": [
      "18488 18488 18488\n"
     ]
    }
   ],
   "source": [
    "print(len(review),len(review),len(review_summary))"
   ]
  },
  {
   "cell_type": "code",
   "execution_count": null,
   "id": "418a58c5",
   "metadata": {},
   "outputs": [],
   "source": []
  },
  {
   "cell_type": "code",
   "execution_count": 250,
   "id": "41aee5f8",
   "metadata": {},
   "outputs": [],
   "source": [
    "#connecting to webdriver\n",
    "driver=webdriver.Chrome(r'C:\\Program Files (x86)\\chromedriver.exe')\n",
    "#opening the url\n",
    "driver.get('https://www.flipkart.com/')\n",
    "time.sleep(2)\n",
    "driver.maximize_window()"
   ]
  },
  {
   "cell_type": "code",
   "execution_count": 251,
   "id": "981b7e4d",
   "metadata": {},
   "outputs": [],
   "source": [
    "#closing login button\n",
    "login=driver.find_element_by_xpath(\"//button[@class='_2KpZ6l _2doB4z']\")\n",
    "time.sleep(3)\n",
    "login.click()"
   ]
  },
  {
   "cell_type": "code",
   "execution_count": 252,
   "id": "62d9fa50",
   "metadata": {},
   "outputs": [],
   "source": [
    "#searching the product name in search bar\n",
    "search=driver.find_element_by_xpath(\"//div[@class='_3OO5Xc']/input\")\n",
    "search.send_keys(\"Home theater\")\n",
    "\n",
    "#clicking search button in the search button\n",
    "search_btn=driver.find_element_by_xpath(\"//button[@class='L0Z3Pu']\")\n",
    "time.sleep(3)\n",
    "search_btn.click()"
   ]
  },
  {
   "cell_type": "code",
   "execution_count": 253,
   "id": "d8f44986",
   "metadata": {},
   "outputs": [],
   "source": [
    " url_home=[]\n",
    "#product url\n",
    "for u in driver.find_elements_by_xpath(\"//a[@class='_2rpwqI']\"):\n",
    "    url_home.append(u.get_attribute(\"href\"))"
   ]
  },
  {
   "cell_type": "code",
   "execution_count": 254,
   "id": "4d3a9ddd",
   "metadata": {},
   "outputs": [
    {
     "name": "stdout",
     "output_type": "stream",
     "text": [
      "40\n"
     ]
    }
   ],
   "source": [
    "print(len(url_home))"
   ]
  },
  {
   "cell_type": "code",
   "execution_count": 255,
   "id": "f4dd08e1",
   "metadata": {},
   "outputs": [],
   "source": [
    "#next page link\n",
    "page_link=\"https://www.flipkart.com/search?q=Home+theater&otracker=search&otracker1=search&marketplace=FLIPKART&as-show=on&as=off&page=\""
   ]
  },
  {
   "cell_type": "code",
   "execution_count": 256,
   "id": "33735484",
   "metadata": {},
   "outputs": [],
   "source": [
    "review_home1=[]\n",
    "rating_home1=[]\n",
    "review_homesum1=[]\n",
    "\n",
    "#connecting to each pages\n",
    "for next_page in range(55,91):\n",
    "    next_page=page_link + str(next_page)\n",
    "    #connecting to each page\n",
    "    driver.get(next_page)\n",
    "\n",
    "   #url\n",
    "    for ho in url_home:\n",
    "        driver.get(ho)\n",
    "        time.sleep(1)\n",
    "        \n",
    "        try:\n",
    "            title=driver.find_element_by_xpath(\"//p[@class='_2-N8zT']\")\n",
    "            review_home1.append(title.text)\n",
    "        except:\n",
    "            review_home1.append(\"None\")\n",
    "    \n",
    "    #rating\n",
    "        try:\n",
    "            rate=driver.find_element_by_xpath(\"//div[@class='_3LWZlK _1BLPMq']\")\n",
    "            rating_home1.append(rate.text)\n",
    "        except:\n",
    "            rating_home1.append(\"None\")\n",
    "            \n",
    "    #review summary\n",
    "        try:\n",
    "            reviews=driver.find_element_by_xpath(\"//div[@class='t-ZTKy']/div\")\n",
    "            review_homesum1.append(reviews.text.replace('\\n',''))\n",
    "        except:\n",
    "            review_homesum1.append(\"None\")"
   ]
  },
  {
   "cell_type": "code",
   "execution_count": 258,
   "id": "85d942e5",
   "metadata": {},
   "outputs": [
    {
     "data": {
      "text/plain": [
       "1440"
      ]
     },
     "execution_count": 258,
     "metadata": {},
     "output_type": "execute_result"
    }
   ],
   "source": [
    "len(rating_home1)"
   ]
  },
  {
   "cell_type": "code",
   "execution_count": 262,
   "id": "2c0ba5af",
   "metadata": {},
   "outputs": [],
   "source": [
    "#concatenating lists\n",
    "for b in review_home1:\n",
    "    review.append(b)\n",
    "    \n",
    "for m in rating_home1:\n",
    "    rating.append(m)\n",
    "    \n",
    "for y in review_homesum1:\n",
    "    review_summary.append(y)"
   ]
  },
  {
   "cell_type": "code",
   "execution_count": 263,
   "id": "0d98ce2c",
   "metadata": {},
   "outputs": [
    {
     "name": "stdout",
     "output_type": "stream",
     "text": [
      "19928 19928 19928\n"
     ]
    }
   ],
   "source": [
    "print(len(review),len(review),len(review_summary))"
   ]
  },
  {
   "cell_type": "code",
   "execution_count": null,
   "id": "28a01006",
   "metadata": {},
   "outputs": [],
   "source": []
  },
  {
   "cell_type": "code",
   "execution_count": 264,
   "id": "49503e7b",
   "metadata": {},
   "outputs": [],
   "source": [
    "#connecting to webdriver\n",
    "driver=webdriver.Chrome(r'C:\\Program Files (x86)\\chromedriver.exe')\n",
    "#opening the url\n",
    "driver.get('https://www.flipkart.com/')\n",
    "time.sleep(2)\n",
    "driver.maximize_window()"
   ]
  },
  {
   "cell_type": "code",
   "execution_count": 265,
   "id": "ab232933",
   "metadata": {},
   "outputs": [],
   "source": [
    "#closing login button\n",
    "login=driver.find_element_by_xpath(\"//button[@class='_2KpZ6l _2doB4z']\")\n",
    "time.sleep(3)\n",
    "login.click()"
   ]
  },
  {
   "cell_type": "code",
   "execution_count": 266,
   "id": "dd208f09",
   "metadata": {},
   "outputs": [],
   "source": [
    "#searching the product name in search bar\n",
    "search=driver.find_element_by_xpath(\"//div[@class='_3OO5Xc']/input\")\n",
    "search.send_keys(\"Cameras\")\n",
    "\n",
    "#clicking search button in the search button\n",
    "search_btn=driver.find_element_by_xpath(\"//button[@class='L0Z3Pu']\")\n",
    "time.sleep(3)\n",
    "search_btn.click()"
   ]
  },
  {
   "cell_type": "code",
   "execution_count": 267,
   "id": "8ed399da",
   "metadata": {},
   "outputs": [],
   "source": [
    " url_cam=[]\n",
    "#product url\n",
    "for u in driver.find_elements_by_xpath(\"//a[@class='_2rpwqI']\"):\n",
    "    url_cam.append(u.get_attribute(\"href\"))"
   ]
  },
  {
   "cell_type": "code",
   "execution_count": 268,
   "id": "e57d261b",
   "metadata": {},
   "outputs": [
    {
     "data": {
      "text/plain": [
       "40"
      ]
     },
     "execution_count": 268,
     "metadata": {},
     "output_type": "execute_result"
    }
   ],
   "source": [
    "len(url_cam)"
   ]
  },
  {
   "cell_type": "code",
   "execution_count": 269,
   "id": "14f8a6d0",
   "metadata": {},
   "outputs": [],
   "source": [
    "#next page link\n",
    "page_link=\"https://www.flipkart.com/search?q=Cameras&otracker=search&otracker1=search&marketplace=FLIPKART&as-show=on&as=off&page=\""
   ]
  },
  {
   "cell_type": "code",
   "execution_count": 270,
   "id": "9a53c493",
   "metadata": {},
   "outputs": [],
   "source": [
    "review_cam=[]\n",
    "rating_cam=[]\n",
    "review_camsu=[]\n",
    "\n",
    "#connecting to each pages\n",
    "for next_page in range(50,80):\n",
    "    next_page=page_link + str(next_page)\n",
    "    #connecting to each page\n",
    "    driver.get(next_page)\n",
    "\n",
    "   #url\n",
    "    for cm in url_cam:\n",
    "        driver.get(cm)\n",
    "        time.sleep(1)\n",
    "        \n",
    "        try:\n",
    "            title=driver.find_element_by_xpath(\"//p[@class='_2-N8zT']\")\n",
    "            review_cam.append(title.text)\n",
    "        except:\n",
    "            review_cam.append(\"None\")\n",
    "    \n",
    "    #rating\n",
    "        try:\n",
    "            rate=driver.find_element_by_xpath(\"//div[@class='_3LWZlK _1BLPMq']\")\n",
    "            rating_cam.append(rate.text)\n",
    "        except:\n",
    "            rating_cam.append(\"None\")\n",
    "            \n",
    "    #review summary\n",
    "        try:\n",
    "            reviews=driver.find_element_by_xpath(\"//div[@class='t-ZTKy']/div\")\n",
    "            review_camsu.append(reviews.text.replace('\\n',''))\n",
    "        except:\n",
    "            review_camsu.append(\"None\")"
   ]
  },
  {
   "cell_type": "code",
   "execution_count": 271,
   "id": "e81c49a6",
   "metadata": {},
   "outputs": [],
   "source": [
    "#concatenating lists\n",
    "for b in review_cam:\n",
    "    review.append(b)\n",
    "    \n",
    "for m in rating_cam:\n",
    "    rating.append(m)\n",
    "    \n",
    "for y in review_camsu:\n",
    "    review_summary.append(y)"
   ]
  },
  {
   "cell_type": "code",
   "execution_count": 277,
   "id": "d6ac492b",
   "metadata": {},
   "outputs": [
    {
     "name": "stdout",
     "output_type": "stream",
     "text": [
      "21128 21128 21128\n"
     ]
    }
   ],
   "source": [
    "print(len(review),len(rating),len(review_summary))"
   ]
  },
  {
   "cell_type": "code",
   "execution_count": 278,
   "id": "3e1bb5a6",
   "metadata": {},
   "outputs": [
    {
     "data": {
      "text/html": [
       "<div>\n",
       "<style scoped>\n",
       "    .dataframe tbody tr th:only-of-type {\n",
       "        vertical-align: middle;\n",
       "    }\n",
       "\n",
       "    .dataframe tbody tr th {\n",
       "        vertical-align: top;\n",
       "    }\n",
       "\n",
       "    .dataframe thead th {\n",
       "        text-align: right;\n",
       "    }\n",
       "</style>\n",
       "<table border=\"1\" class=\"dataframe\">\n",
       "  <thead>\n",
       "    <tr style=\"text-align: right;\">\n",
       "      <th></th>\n",
       "      <th>Review Title</th>\n",
       "      <th>Ratings</th>\n",
       "      <th>Review Summary</th>\n",
       "    </tr>\n",
       "  </thead>\n",
       "  <tbody>\n",
       "    <tr>\n",
       "      <th>0</th>\n",
       "      <td>Moderate</td>\n",
       "      <td>4</td>\n",
       "      <td>If you can affort few thousands extra you can ...</td>\n",
       "    </tr>\n",
       "    <tr>\n",
       "      <th>1</th>\n",
       "      <td>Best in the market!</td>\n",
       "      <td>5</td>\n",
       "      <td>Laptop is amazing and sleek. Good for day-to-d...</td>\n",
       "    </tr>\n",
       "    <tr>\n",
       "      <th>2</th>\n",
       "      <td>Mind-blowing purchase</td>\n",
       "      <td>5</td>\n",
       "      <td>I was confused between asus and lenovo s145 la...</td>\n",
       "    </tr>\n",
       "    <tr>\n",
       "      <th>3</th>\n",
       "      <td>Simply awesome</td>\n",
       "      <td>5</td>\n",
       "      <td>Got this for 61k. Great value for money. Best ...</td>\n",
       "    </tr>\n",
       "    <tr>\n",
       "      <th>4</th>\n",
       "      <td>Value-for-money</td>\n",
       "      <td>4</td>\n",
       "      <td>Laptop is good with good configuration in this...</td>\n",
       "    </tr>\n",
       "    <tr>\n",
       "      <th>5</th>\n",
       "      <td>Superb</td>\n",
       "      <td>5</td>\n",
       "      <td>Here is my review on this laptop after using f...</td>\n",
       "    </tr>\n",
       "    <tr>\n",
       "      <th>6</th>\n",
       "      <td>Good choice</td>\n",
       "      <td>4</td>\n",
       "      <td>Good product in this price range.</td>\n",
       "    </tr>\n",
       "    <tr>\n",
       "      <th>7</th>\n",
       "      <td>Awesome</td>\n",
       "      <td>5</td>\n",
       "      <td>Good product in this price ...</td>\n",
       "    </tr>\n",
       "    <tr>\n",
       "      <th>8</th>\n",
       "      <td>Delightful</td>\n",
       "      <td>4</td>\n",
       "      <td>This laptop has major scree issue\\nviewing ang...</td>\n",
       "    </tr>\n",
       "    <tr>\n",
       "      <th>9</th>\n",
       "      <td>None</td>\n",
       "      <td>None</td>\n",
       "      <td>None</td>\n",
       "    </tr>\n",
       "  </tbody>\n",
       "</table>\n",
       "</div>"
      ],
      "text/plain": [
       "            Review Title Ratings  \\\n",
       "0               Moderate       4   \n",
       "1    Best in the market!       5   \n",
       "2  Mind-blowing purchase       5   \n",
       "3         Simply awesome       5   \n",
       "4        Value-for-money       4   \n",
       "5                 Superb       5   \n",
       "6            Good choice       4   \n",
       "7                Awesome       5   \n",
       "8             Delightful       4   \n",
       "9                   None    None   \n",
       "\n",
       "                                      Review Summary  \n",
       "0  If you can affort few thousands extra you can ...  \n",
       "1  Laptop is amazing and sleek. Good for day-to-d...  \n",
       "2  I was confused between asus and lenovo s145 la...  \n",
       "3  Got this for 61k. Great value for money. Best ...  \n",
       "4  Laptop is good with good configuration in this...  \n",
       "5  Here is my review on this laptop after using f...  \n",
       "6                  Good product in this price range.  \n",
       "7                     Good product in this price ...  \n",
       "8  This laptop has major scree issue\\nviewing ang...  \n",
       "9                                               None  "
      ]
     },
     "execution_count": 278,
     "metadata": {},
     "output_type": "execute_result"
    }
   ],
   "source": [
    "#dataframe\n",
    "dataframe=pd.DataFrame({})\n",
    "\n",
    "dataframe['Review Title']=review\n",
    "dataframe['Ratings']=rating\n",
    "dataframe['Review Summary']=review_summary\n",
    "\n",
    "dataframe.head(10)"
   ]
  },
  {
   "cell_type": "code",
   "execution_count": 279,
   "id": "5f5770ef",
   "metadata": {},
   "outputs": [],
   "source": [
    "#to csv\n",
    "dataframe.to_csv(\"ratings.csv\")"
   ]
  },
  {
   "cell_type": "markdown",
   "id": "d9cc8664",
   "metadata": {},
   "source": [
    "# Amazon"
   ]
  },
  {
   "cell_type": "code",
   "execution_count": 219,
   "id": "f526941e",
   "metadata": {},
   "outputs": [],
   "source": [
    "#connecting to webdriver\n",
    "driver=webdriver.Chrome(r'C:\\Program Files (x86)\\chromedriver.exe')\n",
    "#opening the url\n",
    "driver.get('https://www.amazon.in/')\n",
    "time.sleep(2)\n",
    "driver.maximize_window()"
   ]
  },
  {
   "cell_type": "code",
   "execution_count": 220,
   "id": "efd99fac",
   "metadata": {},
   "outputs": [],
   "source": [
    "#searching the product name in search bar\n",
    "search=driver.find_element_by_xpath(\"//input[@id='twotabsearchtextbox']\")\n",
    "search.send_keys(\"mobile phones\")\n",
    "\n",
    "#clicking search button in the search button\n",
    "search_btn=driver.find_element_by_xpath(\"//input[@id='nav-search-submit-button']\")\n",
    "time.sleep(3)\n",
    "search_btn.click()"
   ]
  },
  {
   "cell_type": "code",
   "execution_count": 221,
   "id": "b7dcb191",
   "metadata": {},
   "outputs": [],
   "source": [
    "url_phone=[]\n",
    "#product url\n",
    "for u in driver.find_elements_by_xpath(\"//a[@class='a-link-normal s-no-outline']\"):\n",
    "    url_phone.append(u.get_attribute(\"href\"))"
   ]
  },
  {
   "cell_type": "code",
   "execution_count": 222,
   "id": "096083ed",
   "metadata": {},
   "outputs": [
    {
     "data": {
      "text/plain": [
       "22"
      ]
     },
     "execution_count": 222,
     "metadata": {},
     "output_type": "execute_result"
    }
   ],
   "source": [
    "len(url_phone)"
   ]
  },
  {
   "cell_type": "code",
   "execution_count": 227,
   "id": "3bdd584d",
   "metadata": {},
   "outputs": [],
   "source": [
    "#next_page link\n",
    "pagination=\"https://www.amazon.in/s?k=mobile+phones&page=&crid=2UPH625TL70FA&qid=1646710842&sprefix=mobile+phones%2Caps%2C712&ref=sr_pg_\""
   ]
  },
  {
   "cell_type": "code",
   "execution_count": 235,
   "id": "1b9677da",
   "metadata": {},
   "outputs": [],
   "source": [
    "review_phone=[]\n",
    "rating_phone=[]\n",
    "review_phonesum=[]\n",
    "\n",
    "#connecting to each pages\n",
    "for next_page1 in range(2,4):\n",
    "    next_page1=pagination + str(next_page1)\n",
    "    #connecting to each page\n",
    "    driver.get(next_page1)\n",
    "    \n",
    "    #url\n",
    "    for ph in url_phone:\n",
    "        driver.get(ph)\n",
    "        time.sleep(2)\n",
    "        \n",
    "     #review title\n",
    "    try:\n",
    "        title=driver.find_element_by_xpath(\"//a[@data-hook='review-title']\")\n",
    "        review_phone.append(title.text)\n",
    "    except:\n",
    "        review_phone.append(\"None\")\n",
    "    \n",
    "    #rating\n",
    "    try:\n",
    "        rate=driver.find_element_by_xpath(\"//i[@data-hook='review-star-rating']\")\n",
    "        rating_phone.append(rate.text.replace('out of 5 stars','').strip())\n",
    "    except:\n",
    "        rating_phone.append(\"None\")\n",
    "            \n",
    "    #review summary\n",
    "    try:\n",
    "        reviews=driver.find_element_by_xpath(\"//span[@data-hook='review-body']\")\n",
    "        review_phonesum.append(reviews.text.strip())\n",
    "    except:\n",
    "        review_phonesum.append(\"None\")"
   ]
  },
  {
   "cell_type": "code",
   "execution_count": 236,
   "id": "f7cdc3b4",
   "metadata": {},
   "outputs": [
    {
     "name": "stdout",
     "output_type": "stream",
     "text": [
      "2\n"
     ]
    }
   ],
   "source": [
    "print(len(review_phone))"
   ]
  },
  {
   "cell_type": "code",
   "execution_count": 234,
   "id": "84e2893b",
   "metadata": {},
   "outputs": [
    {
     "data": {
      "text/plain": [
       "['All prime users who bought this product in early access, they had to pay extra 1000rs.\\nInstead of getting festive discount. All prime users paid 1000rs extra to the seller. It is a kind of cheating for prime users.\\nAlso mobile has heating effect. It heat very soon. Battery backup is not upto the mark.\\n\\nRest everything is good.',\n",
       " 'All prime users who bought this product in early access, they had to pay extra 1000rs.\\nInstead of getting festive discount. All prime users paid 1000rs extra to the seller. It is a kind of cheating for prime users.\\nAlso mobile has heating effect. It heat very soon. Battery backup is not upto the mark.\\n\\nRest everything is good.']"
      ]
     },
     "execution_count": 234,
     "metadata": {},
     "output_type": "execute_result"
    }
   ],
   "source": [
    "review_phonesum"
   ]
  },
  {
   "cell_type": "markdown",
   "id": "3e1bd1af",
   "metadata": {},
   "source": [
    "# Myntra"
   ]
  },
  {
   "cell_type": "code",
   "execution_count": 213,
   "id": "45cecaaa",
   "metadata": {},
   "outputs": [],
   "source": [
    "#connecting to webdriver\n",
    "driver=webdriver.Chrome(r'C:\\Program Files (x86)\\chromedriver.exe')\n",
    "#opening the url\n",
    "driver.get('https://www.myntra.com/')\n",
    "time.sleep(2)\n",
    "driver.maximize_window()"
   ]
  }
 ],
 "metadata": {
  "kernelspec": {
   "display_name": "Python 3",
   "language": "python",
   "name": "python3"
  },
  "language_info": {
   "codemirror_mode": {
    "name": "ipython",
    "version": 3
   },
   "file_extension": ".py",
   "mimetype": "text/x-python",
   "name": "python",
   "nbconvert_exporter": "python",
   "pygments_lexer": "ipython3",
   "version": "3.8.8"
  }
 },
 "nbformat": 4,
 "nbformat_minor": 5
}
